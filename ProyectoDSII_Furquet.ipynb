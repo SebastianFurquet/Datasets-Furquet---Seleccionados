{
 "cells": [
  {
   "cell_type": "markdown",
   "id": "bc047ad1-064a-4828-b2dd-c86bec448f80",
   "metadata": {},
   "source": [
    "# Proyecto Final – Análisis de venta de los autos usados."
   ]
  },
  {
   "cell_type": "markdown",
   "id": "965f7427-90c5-42ce-8a67-241aa72b48a0",
   "metadata": {},
   "source": [
    "## ***1-\tIntroducción***"
   ]
  },
  {
   "cell_type": "markdown",
   "id": "6228180d-76c7-4911-a8de-92a1f52681e7",
   "metadata": {},
   "source": [
    "El análisis de datos en el sector automotriz es fundamental para comprender las tendencias del mercado y los factores que influyen en los precios de los vehículos usados. En este estudio, se utiliza un dataset que proporciona información sobre automóviles usados, el mismo fue obtenido del sitio Kaggle: https://www.kaggle.com/datasets/thedevastator/uncovering-factors-that-affect-used-car-prices/data .\n",
    "Este conjunto de datos contiene variables que ofrecen una visión detallada de cada vehículo y su contexto en el mercado de segunda mano.\n",
    "\n",
    "Entre las variables incluidas en el dataset se encuentran:\n",
    "\n",
    "- Información de búsqueda (dateCrawled): Esta variable indica la fecha y hora en que se buscó cada automóvil, lo que puede proporcionar información sobre la temporalidad de los datos.\n",
    "-\tNombre del vehículo (name): Describe el nombre del automóvil.\n",
    "-\tTipo de vendedor (seller): Clasifica al vendedor como particular o concesionario, lo que puede influir en la percepción del comprador sobre la confiabilidad y la calidad del servicio postventa.\n",
    "-\tTipo de oferta (offerType): Indica el tipo de oferta, que puede ser de venta, intercambio, alquiler, entre otros, lo que proporciona información adicional sobre las condiciones de la transacción.\n",
    "-\tPrecio (price): Precio del automóvil, una variable crucial que influye en la decisión de compra.\n",
    "-\tPrueba AB (abtest): Esta variable indica si se realizó una prueba al vehículo.\n",
    "-\tTipo de vehículo (vehicleType): Describe el tipo de vehículo, como SUV, sedán, coupé, etc., lo que ayuda a segmentar el mercado según las preferencias de los compradores.\n",
    "-\tAño de registro (yearOfRegistration): Año en que se fabricó el automóvil, lo que puede afectar su valor de mercado debido a la antigüedad y la disponibilidad de tecnologías más recientes.\n",
    "-\tTipo de caja de cambios (gearbox): Transmisión manual o automática, una característica importante que puede influir en las preferencias de compra de los consumidores.\n",
    "-\tPotencia (powerPS): Representa la potencia del motor en caballos de fuerza (PS), un factor determinante en el rendimiento y la velocidad del automóvil.\n",
    "-\tModelo (model): Indica el modelo específico del automóvil, lo que permite realizar comparaciones y análisis detallados entre diferentes modelos y marcas.\n",
    "-\tKilometraje (kilometer): Muestra la distancia recorrida por el automóvil en kilómetros, una variable importante que afecta su estado y valor de mercado.\n",
    "-\tMes de registro (monthOfRegistration): Indica el mes en que se fabrico el automóvil por primera vez, lo que puede proporcionar información sobre la temporada de compra y venta de vehículos.\n",
    "-\tTipo de combustible (fuelType): Describe el tipo de combustible utilizado por el automóvil, como Nafta, diésel, eléctrico, etc, lo que puede influir en los costos operativos y la demanda del mercado.\n",
    "-\tMarca (brand): Representa la marca del automóvil, un factor importante que puede influir en la percepción de calidad, confiabilidad y prestigio del vehículo.\n",
    "-\tDaños no reparados (notRepairedDamage): Indica si el automóvil tiene algún daño que no ha sido reparado, lo que puede afectar significativamente su valor y la disposición de los compradores a pagar un precio determinado.\n",
    "-\tFecha de creación (dateCreated): Día / mes / año en que se publico el automóvil.\n",
    "-\tNúmero de fotografías (nrOfPictures): Número de fotografías disponibles.\n",
    "-\tCódigo postal (postalCode): Código postal de la ubicación del vendedor, lo que puede proporcionar información geográfica relevante para análisis regionales y tendencias de mercado.\n",
    "-\tÚltima visualización (lastSeen): Indica la fecha en que el automóvil fue visto por última vez en la web.\n",
    "\n",
    "El análisis de este conjunto de datos permite explorar las relaciones entre estas variables y comprender cómo influyen en los precios de los automóviles usados. Al investigar estas relaciones, es posible identificar patrones, tendencias y factores clave que afectan la valoración y la demanda en el mercado de segunda mano. Esto puede proporcionar información valiosa tanto para los compradores como para los vendedores, permitiéndoles tomar decisiones más informadas y estratégicas en sus transacciones comerciales.\n"
   ]
  },
  {
   "cell_type": "markdown",
   "id": "042cc0f7-9307-4f43-93f2-a089f64423e7",
   "metadata": {},
   "source": [
    "## ***2-\tProblema Comercial***"
   ]
  },
  {
   "cell_type": "markdown",
   "id": "6234dd9c-0c40-4a6b-945f-b454b1918543",
   "metadata": {},
   "source": [
    "Uno de los problemas comerciales que podría abordarse con este dataset y que podria ser útil para plataformas de ventas de Autos ya que permitiría mejorar la experiencia de los usuarios al encontrar vehículos que se ajusten a sus necesidades, **_es el desarrollo de un modelo predictivo que clasifique los vehículos en distintos tipos (vehicleType) basándose en sus características._** \n",
    "\r\n",
    "Esto podría mejorar la precisión de las recomendaciones automáticas en el sitio web, ayudando a los usuarios a encontrar rápidamente el tipo de vehículo que buscan, ya sea un SUV, una coupé, un sedán, etc. Además, podría ayudar a los vendedores a optimizar la presentación de sus vehículos para que lleguen a los compradores más adecuados.\r\n"
   ]
  },
  {
   "cell_type": "markdown",
   "id": "4f1ed036-75bc-4404-a51b-3621fef05bea",
   "metadata": {},
   "source": [
    "## ***3-\tHipótesis***"
   ]
  },
  {
   "cell_type": "markdown",
   "id": "4104e40b-dea4-4a10-842c-b3652330de8a",
   "metadata": {},
   "source": [
    "Pueden surgir una variedad de preguntas e hipótesis de interés que podrían guiar la investigación y el análisis de datos. Aquí hay algunas preguntas e hipótesis potenciales:\n",
    "\n",
    "- ***¿Hay diferencias de precios entre los diferentes tipos de vehículos, como sedanes, SUVs o coupés?***\n",
    " \n",
    "Hipótesis: Los SUVs pueden tener precios más altos en comparación con los sedanes o coupés debido a su mayor tamaño, capacidad y popularidad entre ciertos grupos demográficos.\n",
    " \n",
    "- ***El tipo de vehículo está significativamente influenciado por el precio y el kilometraje?***\n",
    "\n",
    "Hipótesis: Se espera que los vehículos de mayor precio y menor kilometraje pertenezcan a categorías como SUV o coupé, mientras que los vehículos más económicos y con mayor kilometraje tienden a clasificarse como autos más pequeños o de gama baja.\n",
    " \n",
    "- ***¿Los vehículos más nuevos tienden a ser clasificados en categorías de mayor precio.?***\n",
    " \n",
    "Hipótesis: La antigüedad de un vehículo (año de registro) está inversamente relacionada con su precio, lo que puede influir en el tipo de vehículo al que pertenece (por ejemplo, los coupés o SUVs más recientes tienden a ser más caros).\n",
    " \n",
    "- ***¿Los vehículos con transmisión automática tienen mayor probabilidad de ser clasificados como SUV o coupé.?***\n",
    " \n",
    "Hipótesis: Los vehículos de transmisión automática suelen asociarse con segmentos más altos, como los SUV, en comparación con los autos pequeños que tienden a tener transmisión manual.\n",
    " \n",
    "- ***¿El kilometraje de los vehículos usados está correlacionado con el tipo de vehículo.?***\n",
    " \n",
    "Hipótesis: Algunos tipos de vehículos (como los SUV) tienden a acumular más kilometraje debido a su uso en distancias más largas o en condiciones más difíciles, mientras que los autos pequeños tienen menores recorridos.\n",
    " \n",
    "-  ***¿Los vehículos con daños no reparados tienden a clasificarse en tipos de vehículos de menor valor (como sedanes).?***\n",
    "\n",
    "Hipótesis: Un daño no reparado podría desincentivar a los compradores de vehículos más caros o sofisticados, afectando el tipo de vehículo en el que se clasifica.\n",
    " \n",
    "- ***¿El tipo de combustible influye en la clasificación de un vehículo?***\n",
    " \n",
    "Hipótesis: Los vehículos que usan diésel o gasolina tienden a pertenecer a tipos diferentes, por ejemplo, los SUVs y camionetas son más comunes con motores diésel, mientras que los autos pequeños y sedanes usan principalmente gasolina.\n",
    " \n",
    "- ***¿Los vehículos de marcas premium o de lujo tienen mayor probabilidad de pertenecer a ciertos tipos de vehículos.?***\n",
    " \n",
    "Hipótesis: Las marcas de lujo (como Audi, BMW, Mercedes-Benz) tienden a producir vehículos que se clasifican como coupés o sedanes de alta gama, mientras que las marcas más económicas fabrican más autos pequeños y utilitarios.\n",
    "s y utilitarios.\n",
    "\n",
    "Estas preguntas e hipótesis representan solo algunas de las posibles áreas de interés que podrían explorarse utilizando el dataset . Al analizar estas relaciones, se buscara descubrir insights valiosos sobre el mercado de automóviles de segunda mano y las variables que influyen en los precios de venta.\r\n"
   ]
  },
  {
   "cell_type": "markdown",
   "id": "53354bda-5c00-4d60-bf21-aa4a48445461",
   "metadata": {},
   "source": [
    "## ***4- Data Preprocessing***"
   ]
  },
  {
   "cell_type": "code",
   "execution_count": 101,
   "id": "ec071773-a9e2-4ab6-9e02-a1e2a10af848",
   "metadata": {},
   "outputs": [],
   "source": [
    "import pandas as pd\n",
    "import numpy as np\n",
    "import matplotlib.pyplot as plt\n",
    "import seaborn as sns"
   ]
  },
  {
   "cell_type": "code",
   "execution_count": 104,
   "id": "f48d0e2e-b1f0-4740-a688-3071da33ba71",
   "metadata": {},
   "outputs": [],
   "source": [
    "url = 'https://raw.githubusercontent.com/SebastianFurquet/Datasets-Furquet---Seleccionados/main/1_car_pricing.csv'\n",
    "df = pd.read_csv(url, sep=',')"
   ]
  },
  {
   "cell_type": "markdown",
   "id": "7801c4c2-4bc5-4a42-b42e-d471ae318369",
   "metadata": {},
   "source": [
    "## ***5- Data Discovery***"
   ]
  },
  {
   "cell_type": "code",
   "execution_count": 109,
   "id": "99b06001-c911-4426-9a72-829df92aacf7",
   "metadata": {},
   "outputs": [
    {
     "data": {
      "text/plain": [
       "(371528, 21)"
      ]
     },
     "execution_count": 109,
     "metadata": {},
     "output_type": "execute_result"
    }
   ],
   "source": [
    "df.shape"
   ]
  },
  {
   "cell_type": "code",
   "execution_count": 113,
   "id": "3efdf752-e55a-40d9-b54d-b251f555e627",
   "metadata": {},
   "outputs": [
    {
     "data": {
      "text/html": [
       "<div>\n",
       "<style scoped>\n",
       "    .dataframe tbody tr th:only-of-type {\n",
       "        vertical-align: middle;\n",
       "    }\n",
       "\n",
       "    .dataframe tbody tr th {\n",
       "        vertical-align: top;\n",
       "    }\n",
       "\n",
       "    .dataframe thead th {\n",
       "        text-align: right;\n",
       "    }\n",
       "</style>\n",
       "<table border=\"1\" class=\"dataframe\">\n",
       "  <thead>\n",
       "    <tr style=\"text-align: right;\">\n",
       "      <th></th>\n",
       "      <th>index</th>\n",
       "      <th>dateCrawled</th>\n",
       "      <th>name</th>\n",
       "      <th>seller</th>\n",
       "      <th>offerType</th>\n",
       "      <th>price</th>\n",
       "      <th>abtest</th>\n",
       "      <th>vehicleType</th>\n",
       "      <th>yearOfRegistration</th>\n",
       "      <th>gearbox</th>\n",
       "      <th>...</th>\n",
       "      <th>model</th>\n",
       "      <th>kilometer</th>\n",
       "      <th>monthOfRegistration</th>\n",
       "      <th>fuelType</th>\n",
       "      <th>brand</th>\n",
       "      <th>notRepairedDamage</th>\n",
       "      <th>dateCreated</th>\n",
       "      <th>nrOfPictures</th>\n",
       "      <th>postalCode</th>\n",
       "      <th>lastSeen</th>\n",
       "    </tr>\n",
       "  </thead>\n",
       "  <tbody>\n",
       "    <tr>\n",
       "      <th>0</th>\n",
       "      <td>0</td>\n",
       "      <td>2016-03-24 11:52:17</td>\n",
       "      <td>Golf_3_1.6</td>\n",
       "      <td>privat</td>\n",
       "      <td>Angebot</td>\n",
       "      <td>480</td>\n",
       "      <td>test</td>\n",
       "      <td>NaN</td>\n",
       "      <td>1993</td>\n",
       "      <td>manuell</td>\n",
       "      <td>...</td>\n",
       "      <td>golf</td>\n",
       "      <td>150000</td>\n",
       "      <td>0</td>\n",
       "      <td>benzin</td>\n",
       "      <td>volkswagen</td>\n",
       "      <td>NaN</td>\n",
       "      <td>2016-03-24 00:00:00</td>\n",
       "      <td>0</td>\n",
       "      <td>70435</td>\n",
       "      <td>2016-04-07 03:16:57</td>\n",
       "    </tr>\n",
       "    <tr>\n",
       "      <th>1</th>\n",
       "      <td>1</td>\n",
       "      <td>2016-03-24 10:58:45</td>\n",
       "      <td>A5_Sportback_2.7_Tdi</td>\n",
       "      <td>privat</td>\n",
       "      <td>Angebot</td>\n",
       "      <td>18300</td>\n",
       "      <td>test</td>\n",
       "      <td>coupe</td>\n",
       "      <td>2011</td>\n",
       "      <td>manuell</td>\n",
       "      <td>...</td>\n",
       "      <td>NaN</td>\n",
       "      <td>125000</td>\n",
       "      <td>5</td>\n",
       "      <td>diesel</td>\n",
       "      <td>audi</td>\n",
       "      <td>ja</td>\n",
       "      <td>2016-03-24 00:00:00</td>\n",
       "      <td>0</td>\n",
       "      <td>66954</td>\n",
       "      <td>2016-04-07 01:46:50</td>\n",
       "    </tr>\n",
       "    <tr>\n",
       "      <th>2</th>\n",
       "      <td>2</td>\n",
       "      <td>2016-03-14 12:52:21</td>\n",
       "      <td>Jeep_Grand_Cherokee_\"Overland\"</td>\n",
       "      <td>privat</td>\n",
       "      <td>Angebot</td>\n",
       "      <td>9800</td>\n",
       "      <td>test</td>\n",
       "      <td>suv</td>\n",
       "      <td>2004</td>\n",
       "      <td>automatik</td>\n",
       "      <td>...</td>\n",
       "      <td>grand</td>\n",
       "      <td>125000</td>\n",
       "      <td>8</td>\n",
       "      <td>diesel</td>\n",
       "      <td>jeep</td>\n",
       "      <td>NaN</td>\n",
       "      <td>2016-03-14 00:00:00</td>\n",
       "      <td>0</td>\n",
       "      <td>90480</td>\n",
       "      <td>2016-04-05 12:47:46</td>\n",
       "    </tr>\n",
       "    <tr>\n",
       "      <th>3</th>\n",
       "      <td>3</td>\n",
       "      <td>2016-03-17 16:54:04</td>\n",
       "      <td>GOLF_4_1_4__3TÜRER</td>\n",
       "      <td>privat</td>\n",
       "      <td>Angebot</td>\n",
       "      <td>1500</td>\n",
       "      <td>test</td>\n",
       "      <td>kleinwagen</td>\n",
       "      <td>2001</td>\n",
       "      <td>manuell</td>\n",
       "      <td>...</td>\n",
       "      <td>golf</td>\n",
       "      <td>150000</td>\n",
       "      <td>6</td>\n",
       "      <td>benzin</td>\n",
       "      <td>volkswagen</td>\n",
       "      <td>nein</td>\n",
       "      <td>2016-03-17 00:00:00</td>\n",
       "      <td>0</td>\n",
       "      <td>91074</td>\n",
       "      <td>2016-03-17 17:40:17</td>\n",
       "    </tr>\n",
       "    <tr>\n",
       "      <th>4</th>\n",
       "      <td>4</td>\n",
       "      <td>2016-03-31 17:25:20</td>\n",
       "      <td>Skoda_Fabia_1.4_TDI_PD_Classic</td>\n",
       "      <td>privat</td>\n",
       "      <td>Angebot</td>\n",
       "      <td>3600</td>\n",
       "      <td>test</td>\n",
       "      <td>kleinwagen</td>\n",
       "      <td>2008</td>\n",
       "      <td>manuell</td>\n",
       "      <td>...</td>\n",
       "      <td>fabia</td>\n",
       "      <td>90000</td>\n",
       "      <td>7</td>\n",
       "      <td>diesel</td>\n",
       "      <td>skoda</td>\n",
       "      <td>nein</td>\n",
       "      <td>2016-03-31 00:00:00</td>\n",
       "      <td>0</td>\n",
       "      <td>60437</td>\n",
       "      <td>2016-04-06 10:17:21</td>\n",
       "    </tr>\n",
       "  </tbody>\n",
       "</table>\n",
       "<p>5 rows × 21 columns</p>\n",
       "</div>"
      ],
      "text/plain": [
       "   index          dateCrawled                            name  seller  \\\n",
       "0      0  2016-03-24 11:52:17                      Golf_3_1.6  privat   \n",
       "1      1  2016-03-24 10:58:45            A5_Sportback_2.7_Tdi  privat   \n",
       "2      2  2016-03-14 12:52:21  Jeep_Grand_Cherokee_\"Overland\"  privat   \n",
       "3      3  2016-03-17 16:54:04              GOLF_4_1_4__3TÜRER  privat   \n",
       "4      4  2016-03-31 17:25:20  Skoda_Fabia_1.4_TDI_PD_Classic  privat   \n",
       "\n",
       "  offerType  price abtest vehicleType  yearOfRegistration    gearbox  ...  \\\n",
       "0   Angebot    480   test         NaN                1993    manuell  ...   \n",
       "1   Angebot  18300   test       coupe                2011    manuell  ...   \n",
       "2   Angebot   9800   test         suv                2004  automatik  ...   \n",
       "3   Angebot   1500   test  kleinwagen                2001    manuell  ...   \n",
       "4   Angebot   3600   test  kleinwagen                2008    manuell  ...   \n",
       "\n",
       "   model kilometer  monthOfRegistration  fuelType       brand  \\\n",
       "0   golf    150000                    0    benzin  volkswagen   \n",
       "1    NaN    125000                    5    diesel        audi   \n",
       "2  grand    125000                    8    diesel        jeep   \n",
       "3   golf    150000                    6    benzin  volkswagen   \n",
       "4  fabia     90000                    7    diesel       skoda   \n",
       "\n",
       "  notRepairedDamage          dateCreated nrOfPictures  postalCode  \\\n",
       "0               NaN  2016-03-24 00:00:00            0       70435   \n",
       "1                ja  2016-03-24 00:00:00            0       66954   \n",
       "2               NaN  2016-03-14 00:00:00            0       90480   \n",
       "3              nein  2016-03-17 00:00:00            0       91074   \n",
       "4              nein  2016-03-31 00:00:00            0       60437   \n",
       "\n",
       "              lastSeen  \n",
       "0  2016-04-07 03:16:57  \n",
       "1  2016-04-07 01:46:50  \n",
       "2  2016-04-05 12:47:46  \n",
       "3  2016-03-17 17:40:17  \n",
       "4  2016-04-06 10:17:21  \n",
       "\n",
       "[5 rows x 21 columns]"
      ]
     },
     "execution_count": 113,
     "metadata": {},
     "output_type": "execute_result"
    }
   ],
   "source": [
    "df.head()"
   ]
  },
  {
   "cell_type": "markdown",
   "id": "0e673336-7ff9-46c4-addd-0f6505cf35fd",
   "metadata": {},
   "source": [
    "Se puede apreciar que algunos datos estan en Aleman.\n",
    "Para una mejor apreciacion a futuro se traducen algunas palabras como ser:\n",
    "\n",
    "- manuell --> Manual\n",
    "- automatik --> Automatico\n",
    "- benzin --> Nafta\n",
    "- andere --> Otros\n",
    "- ja --> Si\n",
    "- nein --> No\n",
    "\n",
    "se utiliza la funcion .replace()\n",
    "\n",
    "Los terminos kleinwagen y limousine, dado la conceptualidad de lo que engloban en la industria automotriz alemana no se traduciran. A saber:\n",
    "\n",
    "- ***Kleinwagen:*** Este término se refiere a automóviles pequeños o compactos. Son vehículos de tamaño pequeño a mediano diseñados principalmente para el transporte urbano y suelen tener capacidades de pasajeros de cuatro a cinco personas. Ejemplos comunes de Kleinwagen son el Volkswagen Polo, el Ford Fiesta y el Toyota Yaris.\n",
    "\n",
    "- ***Limousine:*** En el contexto europeo, el término \"Limousine\" no se refiere a los vehículos de lujo alargados con asientos adicionales, como se conoce comúnmente en Estados Unidos. En Europa, \"Limousine\" se utiliza para describir un tipo de carrocería de automóvil que generalmente se refiere a sedanes de tamaño grande o sedanes de lujo. Estos vehículos suelen ser más grandes que los Kleinwagen y están diseñados para ofrecer un mayor espacio interior y comodidad para los pasajeros. Ejemplos comunes de Limousine son el Mercedes-Benz Clase E, el BMW Serie 5 y el Audi A6."
   ]
  },
  {
   "cell_type": "code",
   "execution_count": 118,
   "id": "24b76bd3-2360-4fc4-96c4-449b826f13ce",
   "metadata": {},
   "outputs": [],
   "source": [
    "df['gearbox'] = df['gearbox'].replace('manuell', 'Manual').replace('automatik', 'Automatico')\n",
    "df['fuelType'] = df['fuelType'].replace('benzin', 'Nafta').replace('andere', 'otros')\n",
    "df['notRepairedDamage'] = df['notRepairedDamage'].replace('ja', 'Si').replace('nein', 'No')\n",
    "df['vehicleType'] = df['vehicleType'].replace('andere', 'otros')\n",
    "df['model'] = df['model'].replace('andere', 'otros')"
   ]
  },
  {
   "cell_type": "markdown",
   "id": "d0040b30-fd91-471a-805b-1588d18da6d4",
   "metadata": {},
   "source": [
    "Una vez que se verifica que se ha importado el archivo correctamente, es de importancia conocer las proporciones del mismo, esto es, la forma, el nombre y tipo de datos de las columnas, si existen datos nulos, el tipo de dato de cada columna, las medidas básicas ( media, desvío, conteo, mínimo, máximo, cuartiles)"
   ]
  },
  {
   "cell_type": "code",
   "execution_count": 123,
   "id": "7f908308-9448-4404-b934-ef9b18d6913b",
   "metadata": {},
   "outputs": [
    {
     "data": {
      "text/html": [
       "<div>\n",
       "<style scoped>\n",
       "    .dataframe tbody tr th:only-of-type {\n",
       "        vertical-align: middle;\n",
       "    }\n",
       "\n",
       "    .dataframe tbody tr th {\n",
       "        vertical-align: top;\n",
       "    }\n",
       "\n",
       "    .dataframe thead th {\n",
       "        text-align: right;\n",
       "    }\n",
       "</style>\n",
       "<table border=\"1\" class=\"dataframe\">\n",
       "  <thead>\n",
       "    <tr style=\"text-align: right;\">\n",
       "      <th></th>\n",
       "      <th>index</th>\n",
       "      <th>price</th>\n",
       "      <th>yearOfRegistration</th>\n",
       "      <th>powerPS</th>\n",
       "      <th>kilometer</th>\n",
       "      <th>monthOfRegistration</th>\n",
       "      <th>nrOfPictures</th>\n",
       "      <th>postalCode</th>\n",
       "    </tr>\n",
       "  </thead>\n",
       "  <tbody>\n",
       "    <tr>\n",
       "      <th>count</th>\n",
       "      <td>371528.000000</td>\n",
       "      <td>3.715280e+05</td>\n",
       "      <td>371528.000000</td>\n",
       "      <td>371528.000000</td>\n",
       "      <td>371528.000000</td>\n",
       "      <td>371528.000000</td>\n",
       "      <td>371528.0</td>\n",
       "      <td>371528.00000</td>\n",
       "    </tr>\n",
       "    <tr>\n",
       "      <th>mean</th>\n",
       "      <td>185763.500000</td>\n",
       "      <td>1.729514e+04</td>\n",
       "      <td>2004.577997</td>\n",
       "      <td>115.549477</td>\n",
       "      <td>125618.688228</td>\n",
       "      <td>5.734445</td>\n",
       "      <td>0.0</td>\n",
       "      <td>50820.66764</td>\n",
       "    </tr>\n",
       "    <tr>\n",
       "      <th>std</th>\n",
       "      <td>107251.039743</td>\n",
       "      <td>3.587954e+06</td>\n",
       "      <td>92.866598</td>\n",
       "      <td>192.139578</td>\n",
       "      <td>40112.337051</td>\n",
       "      <td>3.712412</td>\n",
       "      <td>0.0</td>\n",
       "      <td>25799.08247</td>\n",
       "    </tr>\n",
       "    <tr>\n",
       "      <th>min</th>\n",
       "      <td>0.000000</td>\n",
       "      <td>0.000000e+00</td>\n",
       "      <td>1000.000000</td>\n",
       "      <td>0.000000</td>\n",
       "      <td>5000.000000</td>\n",
       "      <td>0.000000</td>\n",
       "      <td>0.0</td>\n",
       "      <td>1067.00000</td>\n",
       "    </tr>\n",
       "    <tr>\n",
       "      <th>25%</th>\n",
       "      <td>92881.750000</td>\n",
       "      <td>1.150000e+03</td>\n",
       "      <td>1999.000000</td>\n",
       "      <td>70.000000</td>\n",
       "      <td>125000.000000</td>\n",
       "      <td>3.000000</td>\n",
       "      <td>0.0</td>\n",
       "      <td>30459.00000</td>\n",
       "    </tr>\n",
       "    <tr>\n",
       "      <th>50%</th>\n",
       "      <td>185763.500000</td>\n",
       "      <td>2.950000e+03</td>\n",
       "      <td>2003.000000</td>\n",
       "      <td>105.000000</td>\n",
       "      <td>150000.000000</td>\n",
       "      <td>6.000000</td>\n",
       "      <td>0.0</td>\n",
       "      <td>49610.00000</td>\n",
       "    </tr>\n",
       "    <tr>\n",
       "      <th>75%</th>\n",
       "      <td>278645.250000</td>\n",
       "      <td>7.200000e+03</td>\n",
       "      <td>2008.000000</td>\n",
       "      <td>150.000000</td>\n",
       "      <td>150000.000000</td>\n",
       "      <td>9.000000</td>\n",
       "      <td>0.0</td>\n",
       "      <td>71546.00000</td>\n",
       "    </tr>\n",
       "    <tr>\n",
       "      <th>max</th>\n",
       "      <td>371527.000000</td>\n",
       "      <td>2.147484e+09</td>\n",
       "      <td>9999.000000</td>\n",
       "      <td>20000.000000</td>\n",
       "      <td>150000.000000</td>\n",
       "      <td>12.000000</td>\n",
       "      <td>0.0</td>\n",
       "      <td>99998.00000</td>\n",
       "    </tr>\n",
       "  </tbody>\n",
       "</table>\n",
       "</div>"
      ],
      "text/plain": [
       "               index         price  yearOfRegistration        powerPS  \\\n",
       "count  371528.000000  3.715280e+05       371528.000000  371528.000000   \n",
       "mean   185763.500000  1.729514e+04         2004.577997     115.549477   \n",
       "std    107251.039743  3.587954e+06           92.866598     192.139578   \n",
       "min         0.000000  0.000000e+00         1000.000000       0.000000   \n",
       "25%     92881.750000  1.150000e+03         1999.000000      70.000000   \n",
       "50%    185763.500000  2.950000e+03         2003.000000     105.000000   \n",
       "75%    278645.250000  7.200000e+03         2008.000000     150.000000   \n",
       "max    371527.000000  2.147484e+09         9999.000000   20000.000000   \n",
       "\n",
       "           kilometer  monthOfRegistration  nrOfPictures    postalCode  \n",
       "count  371528.000000        371528.000000      371528.0  371528.00000  \n",
       "mean   125618.688228             5.734445           0.0   50820.66764  \n",
       "std     40112.337051             3.712412           0.0   25799.08247  \n",
       "min      5000.000000             0.000000           0.0    1067.00000  \n",
       "25%    125000.000000             3.000000           0.0   30459.00000  \n",
       "50%    150000.000000             6.000000           0.0   49610.00000  \n",
       "75%    150000.000000             9.000000           0.0   71546.00000  \n",
       "max    150000.000000            12.000000           0.0   99998.00000  "
      ]
     },
     "execution_count": 123,
     "metadata": {},
     "output_type": "execute_result"
    }
   ],
   "source": [
    "df.describe()"
   ]
  },
  {
   "cell_type": "code",
   "execution_count": 125,
   "id": "3b802e23-8407-45b5-81ab-4a6ae970efb8",
   "metadata": {},
   "outputs": [
    {
     "name": "stdout",
     "output_type": "stream",
     "text": [
      "<class 'pandas.core.frame.DataFrame'>\n",
      "RangeIndex: 371528 entries, 0 to 371527\n",
      "Data columns (total 21 columns):\n",
      " #   Column               Non-Null Count   Dtype \n",
      "---  ------               --------------   ----- \n",
      " 0   index                371528 non-null  int64 \n",
      " 1   dateCrawled          371528 non-null  object\n",
      " 2   name                 371528 non-null  object\n",
      " 3   seller               371528 non-null  object\n",
      " 4   offerType            371528 non-null  object\n",
      " 5   price                371528 non-null  int64 \n",
      " 6   abtest               371528 non-null  object\n",
      " 7   vehicleType          333659 non-null  object\n",
      " 8   yearOfRegistration   371528 non-null  int64 \n",
      " 9   gearbox              351319 non-null  object\n",
      " 10  powerPS              371528 non-null  int64 \n",
      " 11  model                351044 non-null  object\n",
      " 12  kilometer            371528 non-null  int64 \n",
      " 13  monthOfRegistration  371528 non-null  int64 \n",
      " 14  fuelType             338142 non-null  object\n",
      " 15  brand                371528 non-null  object\n",
      " 16  notRepairedDamage    299468 non-null  object\n",
      " 17  dateCreated          371528 non-null  object\n",
      " 18  nrOfPictures         371528 non-null  int64 \n",
      " 19  postalCode           371528 non-null  int64 \n",
      " 20  lastSeen             371528 non-null  object\n",
      "dtypes: int64(8), object(13)\n",
      "memory usage: 59.5+ MB\n"
     ]
    }
   ],
   "source": [
    "df.info()"
   ]
  },
  {
   "cell_type": "markdown",
   "id": "a3360bf2-6285-49bd-a99a-668e376c67d6",
   "metadata": {},
   "source": [
    "- 5.1 - En base a los datos analizados, podemos observar que columnas como dateCrawled, dateCreated, lastSeen se en cuentran como tipo de datos Objetos, lo que significa que se tratan como cadenas de texto (strings). Estas columnas contienen información de fecha y hora, por lo que sería más útil almacenarlas como tipos de datos de fecha y hora. Esto nos permitiria poder realizar operaciones por ejemplo resta, para poder compararlas. Tambien nos permitiria poder extraer el año, mes, dia etc.\n",
    "\n",
    "- 5.2 - Otra cosa a destacar es que se observan columnas como por ejemplo \" 7 - vehicleType \" o \" 9 - gearbox \" con algunos datos nulos. En base a esta cuestion a posterior se procedera a realizar el analisis de la influencia de estos datos nulos por cada columna a fin de poder definir la accion a implementar, si eliminacion de nulos, o reemplazo por alguna medida de tendencia central."
   ]
  },
  {
   "cell_type": "markdown",
   "id": "b9372bfd-9bda-4d9f-a735-0fba9a633dd4",
   "metadata": {},
   "source": [
    "## ***5.1 - Modificacion de datos de las columnas dateCrawled, dateCreated, lastSeen, con la funcion pd.to_datetime***"
   ]
  },
  {
   "cell_type": "code",
   "execution_count": 134,
   "id": "e502bb49-4f79-4ddf-983e-88f96eb023e7",
   "metadata": {},
   "outputs": [
    {
     "data": {
      "text/plain": [
       "index                           int64\n",
       "dateCrawled            datetime64[ns]\n",
       "name                           object\n",
       "seller                         object\n",
       "offerType                      object\n",
       "price                           int64\n",
       "abtest                         object\n",
       "vehicleType                    object\n",
       "yearOfRegistration              int64\n",
       "gearbox                        object\n",
       "powerPS                         int64\n",
       "model                          object\n",
       "kilometer                       int64\n",
       "monthOfRegistration             int64\n",
       "fuelType                       object\n",
       "brand                          object\n",
       "notRepairedDamage              object\n",
       "dateCreated            datetime64[ns]\n",
       "nrOfPictures                    int64\n",
       "postalCode                      int64\n",
       "lastSeen               datetime64[ns]\n",
       "dtype: object"
      ]
     },
     "execution_count": 134,
     "metadata": {},
     "output_type": "execute_result"
    }
   ],
   "source": [
    "df['dateCrawled'] = pd.to_datetime(df['dateCrawled'])\n",
    "df['dateCreated'] = pd.to_datetime(df['dateCreated'])\n",
    "df['lastSeen'] = pd.to_datetime(df['lastSeen'])\n",
    "df.dtypes"
   ]
  },
  {
   "cell_type": "markdown",
   "id": "db8930e1-5279-4453-a870-d83a40d2fce5",
   "metadata": {},
   "source": [
    "## ***5.2 - Datos nulos***"
   ]
  },
  {
   "cell_type": "markdown",
   "id": "71903fbf-847e-4d35-8786-9dfd22894585",
   "metadata": {},
   "source": [
    "Se trabaja sobre los Datos nulos para lo cual, se genera la variable valores_nulos y se utiliza la funcion \".isnull()\" para obtener los datos nulos y \".sum()\" para sumar los mismos.\n",
    "De esta manera obtener el recuento de nulos que hay por columnas."
   ]
  },
  {
   "cell_type": "code",
   "execution_count": 142,
   "id": "75f5c629-02f4-4249-b392-be5cffd0a85e",
   "metadata": {},
   "outputs": [
    {
     "data": {
      "text/plain": [
       "index                      0\n",
       "dateCrawled                0\n",
       "name                       0\n",
       "seller                     0\n",
       "offerType                  0\n",
       "price                      0\n",
       "abtest                     0\n",
       "vehicleType            37869\n",
       "yearOfRegistration         0\n",
       "gearbox                20209\n",
       "powerPS                    0\n",
       "model                  20484\n",
       "kilometer                  0\n",
       "monthOfRegistration        0\n",
       "fuelType               33386\n",
       "brand                      0\n",
       "notRepairedDamage      72060\n",
       "dateCreated                0\n",
       "nrOfPictures               0\n",
       "postalCode                 0\n",
       "lastSeen                   0\n",
       "dtype: int64"
      ]
     },
     "execution_count": 142,
     "metadata": {},
     "output_type": "execute_result"
    }
   ],
   "source": [
    "valores_nulos = df.isnull().sum()\n",
    "valores_nulos"
   ]
  },
  {
   "cell_type": "markdown",
   "id": "498cc10f-0de2-4513-9bc9-dd7831dc8790",
   "metadata": {},
   "source": [
    "Como podemos observar las columnas vehicleType, gearbox, model, fuelType y notRepairedDamage poseen datos nulos.\n",
    "Ahora buscamos conocer cuan represetativos son esos valores nulos encontrados en el df, con el fin de definir si optamos por su eliminacion o reemplazo por alguna medida de tendencia central.\n",
    "- Calculo del Porcentaje de valores nulos = (Numero total de valores nulos en la columna / Numero total de filas en el DataFrame)  ×100"
   ]
  },
  {
   "cell_type": "code",
   "execution_count": 149,
   "id": "de46bd9c-fe85-4d8f-a829-626201a224ec",
   "metadata": {},
   "outputs": [
    {
     "name": "stdout",
     "output_type": "stream",
     "text": [
      "notRepairedDamage    19.395577\n",
      "vehicleType          10.192771\n",
      "fuelType              8.986133\n",
      "model                 5.513447\n",
      "gearbox               5.439429\n",
      "dtype: float64\n"
     ]
    }
   ],
   "source": [
    "porcentaje_nulos = (valores_nulos / len(df)) *100\n",
    "\n",
    "#para una mejor apreciacion de los datos los vamos a poner en orden de mayor a menor.\n",
    "\n",
    "porcentaje_nulos = porcentaje_nulos.sort_values(ascending=False)\n",
    "print(porcentaje_nulos[porcentaje_nulos > 0])"
   ]
  },
  {
   "cell_type": "code",
   "execution_count": 152,
   "id": "3882251c-0f07-46c2-a446-fcdfe8682020",
   "metadata": {},
   "outputs": [
    {
     "data": {
      "image/png": "[encoded data removed]",
      "text/plain": [
       "<Figure size 640x480 with 1 Axes>"
      ]
     },
     "metadata": {},
     "output_type": "display_data"
    }
   ],
   "source": [
    "plt.figure()\n",
    "sns.barplot(x=porcentaje_nulos.index, y=porcentaje_nulos, color='red')\n",
    "plt.title('Porcentaje de nulos por columna')\n",
    "plt.xlabel('Columnas')\n",
    "plt.ylabel('Porcentaje')\n",
    "plt.xticks(rotation=90)\n",
    "plt.show()"
   ]
  },
  {
   "cell_type": "markdown",
   "id": "5958e436-ebbb-4475-bf5b-4f8e111b5eff",
   "metadata": {},
   "source": [
    "De esta manera podemos observar que la columna ***notRepairedDamage posee el 19.40%*** de los datos faltantes, es decir la que mas faltantes posee. La siguen ***vehicleType con 10.2%***, ***fuelType con el 9%***, ***model con el 5.5%*** y ***gearbox con el 5.4%***.\n",
    "\n",
    "Por otro lado el resto de las columnas no poseen valores nulos."
   ]
  },
  {
   "cell_type": "markdown",
   "id": "c53188d0-6870-40b5-bd67-dfca2ba2dc88",
   "metadata": {},
   "source": [
    "Sobre el tratamiento de los datos nulos se abrieron y exploraron varias hipotesis.\r\n",
    "\r\n",
    "1) Se planteo y analizo en una primer hipotesis que fue hacer un reemplazo de aquellos datos nulos por el dato que mayor numero de veces se repetia. ( moda )\r\n",
    "2) Se planteo y analizo como segunda hipotesis cuyo fin era crear una nueva categoria para cada una de las columnas con nulos que sea \"otros o desconocidos\".\r\n",
    "Url_Hipotesis_1/2 = https://github.com/SebastianFurquet/Datasets-Furquet---Seleccionados/blob/bcac41fbd64223dd81d70194aaff950c6f5201bf/ProyectoDS%20Furquet%20-%20Nulos%20reemplazados.ipynb\r\n",
    "\r\n",
    "3) Se planteo y analizo una tercer hipotesis que era la eliminacion de los datos nulos.\r\n",
    "Dentro del trabajo planteado se aplicara esta tercera opcion, dado que, si comparo las matrices de correlación hipotesis 2 con hipotesis 3, los datos son mas consistentes en donde elimine los nulos, pero entre una u otra y otra forma se siguen manteniendo las relaciones."
   ]
  },
  {
   "cell_type": "markdown",
   "id": "28da54e6-40f6-4270-82a6-60bf20ff2f26",
   "metadata": {},
   "source": [
    "# ***Se elimian datos nulos***"
   ]
  },
  {
   "cell_type": "code",
   "execution_count": 161,
   "id": "1239be19-9ae9-461a-bb7d-8fff1964baf4",
   "metadata": {},
   "outputs": [],
   "source": [
    "df = df.dropna()"
   ]
  },
  {
   "cell_type": "markdown",
   "id": "02eeacaf-c34f-4b87-983e-4bae08f4488d",
   "metadata": {},
   "source": [
    "Se verifica que no queden valores Nulos en el Df"
   ]
  },
  {
   "cell_type": "code",
   "execution_count": 165,
   "id": "97d4c56a-c14f-46bd-a51d-7c8a74378ef4",
   "metadata": {},
   "outputs": [
    {
     "name": "stdout",
     "output_type": "stream",
     "text": [
      "<class 'pandas.core.frame.DataFrame'>\n",
      "Index: 260956 entries, 3 to 371527\n",
      "Data columns (total 21 columns):\n",
      " #   Column               Non-Null Count   Dtype         \n",
      "---  ------               --------------   -----         \n",
      " 0   index                260956 non-null  int64         \n",
      " 1   dateCrawled          260956 non-null  datetime64[ns]\n",
      " 2   name                 260956 non-null  object        \n",
      " 3   seller               260956 non-null  object        \n",
      " 4   offerType            260956 non-null  object        \n",
      " 5   price                260956 non-null  int64         \n",
      " 6   abtest               260956 non-null  object        \n",
      " 7   vehicleType          260956 non-null  object        \n",
      " 8   yearOfRegistration   260956 non-null  int64         \n",
      " 9   gearbox              260956 non-null  object        \n",
      " 10  powerPS              260956 non-null  int64         \n",
      " 11  model                260956 non-null  object        \n",
      " 12  kilometer            260956 non-null  int64         \n",
      " 13  monthOfRegistration  260956 non-null  int64         \n",
      " 14  fuelType             260956 non-null  object        \n",
      " 15  brand                260956 non-null  object        \n",
      " 16  notRepairedDamage    260956 non-null  object        \n",
      " 17  dateCreated          260956 non-null  datetime64[ns]\n",
      " 18  nrOfPictures         260956 non-null  int64         \n",
      " 19  postalCode           260956 non-null  int64         \n",
      " 20  lastSeen             260956 non-null  datetime64[ns]\n",
      "dtypes: datetime64[ns](3), int64(8), object(10)\n",
      "memory usage: 43.8+ MB\n"
     ]
    }
   ],
   "source": [
    "df.info()"
   ]
  },
  {
   "cell_type": "markdown",
   "id": "c83782b3-fee2-4b74-9ef4-567a4d42f677",
   "metadata": {},
   "source": [
    "# ***6 - Desarollo EDA***"
   ]
  },
  {
   "cell_type": "markdown",
   "id": "b1a6ad38-c7be-40c2-a8dc-ec8042b436c4",
   "metadata": {},
   "source": [
    "En esta sección se comenzaran a analizar los datos que aporta el Dataset para obtener un vistazo general de la situación. Para ello, se contara con herramientas visuales que se importaran de las librerías: Matplotlib y Seaborn.\n",
    "\n",
    "En base al analisis detallado de los datos se identificaron columnas que no seran de analisis en el presente trabajo, para lo cual se prodecera a filtrar el DataSet."
   ]
  },
  {
   "cell_type": "code",
   "execution_count": 175,
   "id": "66f240c0-2c2e-458a-a5d0-391094507274",
   "metadata": {},
   "outputs": [],
   "source": [
    "col_no_usadas = [\"index\",\"nrOfPictures\", \"lastSeen\", \"dateCrawled\", \"name\", \"monthOfRegistration\", \"dateCreated\", \"postalCode\", \"seller\", \"offerType\"]\n",
    "\n",
    "df = df.drop(col_no_usadas, axis=1)"
   ]
  },
  {
   "cell_type": "code",
   "execution_count": 178,
   "id": "002aa29c-4da4-4523-a04f-981ca8df4e9e",
   "metadata": {},
   "outputs": [
    {
     "name": "stdout",
     "output_type": "stream",
     "text": [
      "<class 'pandas.core.frame.DataFrame'>\n",
      "Index: 260956 entries, 3 to 371527\n",
      "Data columns (total 11 columns):\n",
      " #   Column              Non-Null Count   Dtype \n",
      "---  ------              --------------   ----- \n",
      " 0   price               260956 non-null  int64 \n",
      " 1   abtest              260956 non-null  object\n",
      " 2   vehicleType         260956 non-null  object\n",
      " 3   yearOfRegistration  260956 non-null  int64 \n",
      " 4   gearbox             260956 non-null  object\n",
      " 5   powerPS             260956 non-null  int64 \n",
      " 6   model               260956 non-null  object\n",
      " 7   kilometer           260956 non-null  int64 \n",
      " 8   fuelType            260956 non-null  object\n",
      " 9   brand               260956 non-null  object\n",
      " 10  notRepairedDamage   260956 non-null  object\n",
      "dtypes: int64(4), object(7)\n",
      "memory usage: 23.9+ MB\n"
     ]
    }
   ],
   "source": [
    "df.info()"
   ]
  },
  {
   "cell_type": "code",
   "execution_count": null,
   "id": "e45038bd-8d6e-4577-94ca-4fd23c54dd95",
   "metadata": {},
   "outputs": [],
   "source": []
  },
  {
   "cell_type": "code",
   "execution_count": null,
   "id": "7b7d9f0a-b225-4656-8131-555e595f7c41",
   "metadata": {},
   "outputs": [],
   "source": []
  },
  {
   "cell_type": "code",
   "execution_count": null,
   "id": "b83f0baf-598b-4121-aeac-f861d765b02d",
   "metadata": {},
   "outputs": [],
   "source": []
  },
  {
   "cell_type": "code",
   "execution_count": null,
   "id": "06c3c607-15db-475d-93fb-18b610292c94",
   "metadata": {},
   "outputs": [],
   "source": []
  }
 ],
 "metadata": {
  "kernelspec": {
   "display_name": "Python 3 (ipykernel)",
   "language": "python",
   "name": "python3"
  },
  "language_info": {
   "codemirror_mode": {
    "name": "ipython",
    "version": 3
   },
   "file_extension": ".py",
   "mimetype": "text/x-python",
   "name": "python",
   "nbconvert_exporter": "python",
   "pygments_lexer": "ipython3",
   "version": "3.12.4"
  }
 },
 "nbformat": 4,
 "nbformat_minor": 5
}
