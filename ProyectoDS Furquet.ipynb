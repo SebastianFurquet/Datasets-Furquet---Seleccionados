{
 "cells": [
  {
   "cell_type": "markdown",
   "id": "42c49bed",
   "metadata": {},
   "source": [
    "# Proyecto Final – Análisis del precio de los autos usados."
   ]
  },
  {
   "cell_type": "markdown",
   "id": "604501c5",
   "metadata": {},
   "source": [
    "***1-\tIntroducción***"
   ]
  },
  {
   "cell_type": "markdown",
   "id": "a9618abe",
   "metadata": {},
   "source": [
    "El análisis de datos en el sector automotriz es fundamental para comprender las tendencias del mercado y los factores que influyen en los precios de los vehículos usados. En este estudio, se utiliza un dataset que proporciona información sobre automóviles usados, el mismo fue obtenido del sitio Kaggle: https://www.kaggle.com/datasets/thedevastator/uncovering-factors-that-affect-used-car-prices/data .\n",
    "Este conjunto de datos contiene variables que ofrecen una visión detallada de cada vehículo y su contexto en el mercado de segunda mano.\n",
    "\n",
    "Entre las variables incluidas en el dataset se encuentran:\n",
    "\n",
    "- Información de búsqueda (dateCrawled): Esta variable indica la fecha y hora en que se buscó cada automóvil, lo que puede proporcionar información sobre la temporalidad de los datos.\n",
    "-\tNombre del vehículo (name): Describe el nombre del automóvil.\n",
    "-\tTipo de vendedor (seller): Clasifica al vendedor como particular o concesionario, lo que puede influir en la percepción del comprador sobre la confiabilidad y la calidad del servicio postventa.\n",
    "-\tTipo de oferta (offerType): Indica el tipo de oferta, que puede ser de venta, intercambio, alquiler, entre otros, lo que proporciona información adicional sobre las condiciones de la transacción.\n",
    "-\tPrecio (price): Precio del automóvil, una variable crucial que influye en la decisión de compra.\n",
    "-\tPrueba AB (abtest): Esta variable indica si se realizó una prueba al vehículo.\n",
    "-\tTipo de vehículo (vehicleType): Describe el tipo de vehículo, como SUV, sedán, coupé, etc., lo que ayuda a segmentar el mercado según las preferencias de los compradores.\n",
    "-\tAño de registro (yearOfRegistration): Año en que se fabricó el automóvil, lo que puede afectar su valor de mercado debido a la antigüedad y la disponibilidad de tecnologías más recientes.\n",
    "-\tTipo de caja de cambios (gearbox): Transmisión manual o automática, una característica importante que puede influir en las preferencias de compra de los consumidores.\n",
    "-\tPotencia (powerPS): Representa la potencia del motor en caballos de fuerza (PS), un factor determinante en el rendimiento y la velocidad del automóvil.\n",
    "-\tModelo (model): Indica el modelo específico del automóvil, lo que permite realizar comparaciones y análisis detallados entre diferentes modelos y marcas.\n",
    "-\tKilometraje (kilometer): Muestra la distancia recorrida por el automóvil en kilómetros, una variable importante que afecta su estado y valor de mercado.\n",
    "-\tMes de registro (monthOfRegistration): Indica el mes en que se fabrico el automóvil por primera vez, lo que puede proporcionar información sobre la temporada de compra y venta de vehículos.\n",
    "-\tTipo de combustible (fuelType): Describe el tipo de combustible utilizado por el automóvil, como Nafta, diésel, eléctrico, etc, lo que puede influir en los costos operativos y la demanda del mercado.\n",
    "-\tMarca (brand): Representa la marca del automóvil, un factor importante que puede influir en la percepción de calidad, confiabilidad y prestigio del vehículo.\n",
    "-\tDaños no reparados (notRepairedDamage): Indica si el automóvil tiene algún daño que no ha sido reparado, lo que puede afectar significativamente su valor y la disposición de los compradores a pagar un precio determinado.\n",
    "-\tFecha de creación (dateCreated): Día / mes / año en que se publico el automóvil.\n",
    "-\tNúmero de fotografías (nrOfPictures): Número de fotografías disponibles.\n",
    "-\tCódigo postal (postalCode): Código postal de la ubicación del vendedor, lo que puede proporcionar información geográfica relevante para análisis regionales y tendencias de mercado.\n",
    "-\tÚltima visualización (lastSeen): Indica la fecha en que el automóvil fue visto por última vez en la web.\n",
    "\n",
    "El análisis de este conjunto de datos permite explorar las relaciones entre estas variables y comprender cómo influyen en los precios de los automóviles usados. Al investigar estas relaciones, es posible identificar patrones, tendencias y factores clave que afectan la valoración y la demanda en el mercado de segunda mano. Esto puede proporcionar información valiosa tanto para los compradores como para los vendedores, permitiéndoles tomar decisiones más informadas y estratégicas en sus transacciones comerciales.\n"
   ]
  },
  {
   "cell_type": "markdown",
   "id": "c53ec9ed",
   "metadata": {},
   "source": [
    "***2-\tProblema Comercial***"
   ]
  },
  {
   "cell_type": "markdown",
   "id": "f1f1c6a6",
   "metadata": {},
   "source": [
    "El problema comercial que podría abordarse utilizando este dataset de vehículos usados podría ser la optimización de precios para maximizar las ventas y la rentabilidad. Específicamente, una empresa o vendedor particular podría enfrentarse al desafío de establecer precios competitivos para sus automóviles usados con el fin de atraer a los compradores potenciales, cerrar transacciones rápidas y maximizar los ingresos.\n",
    "Algunos aspectos clave del problema comercial podrían incluir:\n",
    "\n",
    "-\tPrecios óptimos: Determinar los precios más efectivos para cada vehículo basados en sus características específicas, como marca, modelo, año, kilometraje, entre otros, \n",
    "\n",
    "-\tSegmentación de mercado: Identificar segmentos de mercado específicos y ajustar los precios de manera diferenciada para satisfacer las necesidades y presupuestos de diferentes grupos de consumidores, como compradores interesados en vehículos económicos versus aquellos que buscan modelos de gama alta.\n",
    "\n",
    "-\tGestión de inventario: Optimizar la rotación del inventario mediante la fijación de precios estratégicos para vehículos con diferentes características y tiempos de venta esperados, minimizando así el tiempo en que los vehículos permanecen en el inventario y maximizando el flujo de efectivo.\n",
    "\n",
    "\n",
    "-\tCompetitividad: Monitorear y responder dinámicamente a los cambios en los precios de la competencia y las tendencias del mercado para asegurar que los precios de los vehículos usados sigan siendo competitivos y atractivos para los compradores.\n",
    "\n",
    "\n",
    "Al abordar este problema comercial, podríamos con técnicas de análisis de datos y aprendizaje automático explorar las relaciones entre las variables del dataset y desarrollar modelos predictivos que ayuden a establecer precios óptimos y tomar decisiones estratégicas de fijación de precios. Esto puede llevar a una mejora significativa en la eficiencia operativa, la rentabilidad y la competitividad en el mercado de vehículos usados.\n"
   ]
  },
  {
   "cell_type": "markdown",
   "id": "e43957c6",
   "metadata": {},
   "source": [
    "***3-\tHipótesis***"
   ]
  },
  {
   "cell_type": "markdown",
   "id": "5ce67ed1",
   "metadata": {},
   "source": [
    "Al analizar el dataset de vehículos usados, pueden surgir una variedad de preguntas e hipótesis de interés que podrían guiar la investigación y el análisis de datos. Aquí hay algunas preguntas e hipótesis potenciales:\n",
    "-\t***¿Cómo influye la marca del vehículo en el precio de venta?***\n",
    "\n",
    "Hipótesis: Los vehículos de marcas reconocidas y de prestigio pueden tener precios más altos en comparación con las marcas menos conocidas debido a la percepción de calidad y prestigio asociada.\n",
    "\n",
    "-\t***¿Existe una relación entre el año del vehículo y su precio de venta?***\n",
    "\n",
    "Hipótesis: Los vehículos más nuevos tienden a tener precios más altos en comparación con los vehículos más antiguos debido a la depreciación y la disponibilidad de características y tecnologías más recientes.\n",
    "\n",
    "-\t***¿Cómo afecta el kilometraje al precio de venta de un automóvil usado?***\n",
    "\n",
    "Hipótesis: Los vehículos con menor kilometraje tienden a tener precios más altos en comparación con aquellos con kilometraje más alto, ya que generalmente se consideran menos desgastados y más confiables.\n",
    "\n",
    "-\t***¿La presencia de daños no reparados influye en el precio de venta?***\n",
    "\n",
    "Hipótesis: Los vehículos con daños no reparados probablemente tengan precios más bajos en comparación con aquellos sin daños, ya que los compradores pueden percibirlos como menos deseables o requerir inversiones adicionales en reparaciones.\n",
    "\n",
    "-\t***¿Qué impacto tiene el tipo de vendedor en los precios de venta?***\n",
    "\n",
    "Hipótesis: Los vehículos vendidos por concesionarios pueden tener precios más altos en comparación con los vendidos por particulares, debido a la garantía, el servicio postventa y la confianza asociada con las transacciones de concesionarios.\n",
    "\n",
    "-\t***¿Existe una diferencia de precios entre los vehículos con caja de cambios manual y automática?***\n",
    "\n",
    "Hipótesis: Los vehículos con transmisión automática pueden tener precios más altos en comparación con los de transmisión manual, debido a la comodidad y la demanda de mercado.\n",
    "\n",
    "-\t***¿Cómo varía el precio según el tipo de combustible del vehículo?***\n",
    "\n",
    "Hipótesis: Los vehículos con combustibles más eficientes o ecológicos, como los eléctricos o los híbridos, pueden tener precios más altos en comparación con los vehículos de gasolina o diésel debido a la demanda y las preocupaciones ambientales.\n",
    "\n",
    "-\t***¿Hay diferencias de precios entre los diferentes tipos de vehículos, como sedanes, SUVs o coupés?***\n",
    "\n",
    "Hipótesis: Los SUVs pueden tener precios más altos en comparación con los sedanes o coupés debido a su mayor tamaño, capacidad y popularidad entre ciertos grupos demográficos.\n",
    "\n",
    "Estas preguntas e hipótesis representan solo algunas de las posibles áreas de interés que podrían explorarse utilizando el dataset . Al analizar estas relaciones, se buscara descubrir insights valiosos sobre el mercado de automóviles de segunda mano y las variables que influyen en los precios de venta.\n"
   ]
  },
  {
   "cell_type": "markdown",
   "id": "adf6abee",
   "metadata": {},
   "source": [
    "***4- Preparacion del Dataset***"
   ]
  },
  {
   "cell_type": "markdown",
   "id": "2269ba55",
   "metadata": {},
   "source": [
    "En primer lugar, se importan las librerias autilizar"
   ]
  },
  {
   "cell_type": "code",
   "execution_count": 2,
   "id": "6bcb87a6",
   "metadata": {},
   "outputs": [],
   "source": [
    "import pandas as pd\n",
    "import numpy as np\n",
    "import matplotlib.pyplot as plt\n",
    "import seaborn as sns"
   ]
  },
  {
   "cell_type": "markdown",
   "id": "493d5a8f",
   "metadata": {},
   "source": [
    "En segundo lugar, se importara el archivo CSV utilizando la librería Pandas y se mostraran registros para verificar como se visualiza el archivo."
   ]
  },
  {
   "cell_type": "code",
   "execution_count": 3,
   "id": "ab503a14",
   "metadata": {},
   "outputs": [
    {
     "data": {
      "text/html": [
       "<div>\n",
       "<style scoped>\n",
       "    .dataframe tbody tr th:only-of-type {\n",
       "        vertical-align: middle;\n",
       "    }\n",
       "\n",
       "    .dataframe tbody tr th {\n",
       "        vertical-align: top;\n",
       "    }\n",
       "\n",
       "    .dataframe thead th {\n",
       "        text-align: right;\n",
       "    }\n",
       "</style>\n",
       "<table border=\"1\" class=\"dataframe\">\n",
       "  <thead>\n",
       "    <tr style=\"text-align: right;\">\n",
       "      <th></th>\n",
       "      <th>index</th>\n",
       "      <th>dateCrawled</th>\n",
       "      <th>name</th>\n",
       "      <th>seller</th>\n",
       "      <th>offerType</th>\n",
       "      <th>price</th>\n",
       "      <th>abtest</th>\n",
       "      <th>vehicleType</th>\n",
       "      <th>yearOfRegistration</th>\n",
       "      <th>gearbox</th>\n",
       "      <th>...</th>\n",
       "      <th>model</th>\n",
       "      <th>kilometer</th>\n",
       "      <th>monthOfRegistration</th>\n",
       "      <th>fuelType</th>\n",
       "      <th>brand</th>\n",
       "      <th>notRepairedDamage</th>\n",
       "      <th>dateCreated</th>\n",
       "      <th>nrOfPictures</th>\n",
       "      <th>postalCode</th>\n",
       "      <th>lastSeen</th>\n",
       "    </tr>\n",
       "  </thead>\n",
       "  <tbody>\n",
       "    <tr>\n",
       "      <th>0</th>\n",
       "      <td>0</td>\n",
       "      <td>2016-03-24 11:52:17</td>\n",
       "      <td>Golf_3_1.6</td>\n",
       "      <td>privat</td>\n",
       "      <td>Angebot</td>\n",
       "      <td>480</td>\n",
       "      <td>test</td>\n",
       "      <td>NaN</td>\n",
       "      <td>1993</td>\n",
       "      <td>manuell</td>\n",
       "      <td>...</td>\n",
       "      <td>golf</td>\n",
       "      <td>150000</td>\n",
       "      <td>0</td>\n",
       "      <td>benzin</td>\n",
       "      <td>volkswagen</td>\n",
       "      <td>NaN</td>\n",
       "      <td>2016-03-24 00:00:00</td>\n",
       "      <td>0</td>\n",
       "      <td>70435</td>\n",
       "      <td>2016-04-07 03:16:57</td>\n",
       "    </tr>\n",
       "    <tr>\n",
       "      <th>1</th>\n",
       "      <td>1</td>\n",
       "      <td>2016-03-24 10:58:45</td>\n",
       "      <td>A5_Sportback_2.7_Tdi</td>\n",
       "      <td>privat</td>\n",
       "      <td>Angebot</td>\n",
       "      <td>18300</td>\n",
       "      <td>test</td>\n",
       "      <td>coupe</td>\n",
       "      <td>2011</td>\n",
       "      <td>manuell</td>\n",
       "      <td>...</td>\n",
       "      <td>NaN</td>\n",
       "      <td>125000</td>\n",
       "      <td>5</td>\n",
       "      <td>diesel</td>\n",
       "      <td>audi</td>\n",
       "      <td>ja</td>\n",
       "      <td>2016-03-24 00:00:00</td>\n",
       "      <td>0</td>\n",
       "      <td>66954</td>\n",
       "      <td>2016-04-07 01:46:50</td>\n",
       "    </tr>\n",
       "    <tr>\n",
       "      <th>2</th>\n",
       "      <td>2</td>\n",
       "      <td>2016-03-14 12:52:21</td>\n",
       "      <td>Jeep_Grand_Cherokee_\"Overland\"</td>\n",
       "      <td>privat</td>\n",
       "      <td>Angebot</td>\n",
       "      <td>9800</td>\n",
       "      <td>test</td>\n",
       "      <td>suv</td>\n",
       "      <td>2004</td>\n",
       "      <td>automatik</td>\n",
       "      <td>...</td>\n",
       "      <td>grand</td>\n",
       "      <td>125000</td>\n",
       "      <td>8</td>\n",
       "      <td>diesel</td>\n",
       "      <td>jeep</td>\n",
       "      <td>NaN</td>\n",
       "      <td>2016-03-14 00:00:00</td>\n",
       "      <td>0</td>\n",
       "      <td>90480</td>\n",
       "      <td>2016-04-05 12:47:46</td>\n",
       "    </tr>\n",
       "    <tr>\n",
       "      <th>3</th>\n",
       "      <td>3</td>\n",
       "      <td>2016-03-17 16:54:04</td>\n",
       "      <td>GOLF_4_1_4__3TÜRER</td>\n",
       "      <td>privat</td>\n",
       "      <td>Angebot</td>\n",
       "      <td>1500</td>\n",
       "      <td>test</td>\n",
       "      <td>kleinwagen</td>\n",
       "      <td>2001</td>\n",
       "      <td>manuell</td>\n",
       "      <td>...</td>\n",
       "      <td>golf</td>\n",
       "      <td>150000</td>\n",
       "      <td>6</td>\n",
       "      <td>benzin</td>\n",
       "      <td>volkswagen</td>\n",
       "      <td>nein</td>\n",
       "      <td>2016-03-17 00:00:00</td>\n",
       "      <td>0</td>\n",
       "      <td>91074</td>\n",
       "      <td>2016-03-17 17:40:17</td>\n",
       "    </tr>\n",
       "    <tr>\n",
       "      <th>4</th>\n",
       "      <td>4</td>\n",
       "      <td>2016-03-31 17:25:20</td>\n",
       "      <td>Skoda_Fabia_1.4_TDI_PD_Classic</td>\n",
       "      <td>privat</td>\n",
       "      <td>Angebot</td>\n",
       "      <td>3600</td>\n",
       "      <td>test</td>\n",
       "      <td>kleinwagen</td>\n",
       "      <td>2008</td>\n",
       "      <td>manuell</td>\n",
       "      <td>...</td>\n",
       "      <td>fabia</td>\n",
       "      <td>90000</td>\n",
       "      <td>7</td>\n",
       "      <td>diesel</td>\n",
       "      <td>skoda</td>\n",
       "      <td>nein</td>\n",
       "      <td>2016-03-31 00:00:00</td>\n",
       "      <td>0</td>\n",
       "      <td>60437</td>\n",
       "      <td>2016-04-06 10:17:21</td>\n",
       "    </tr>\n",
       "  </tbody>\n",
       "</table>\n",
       "<p>5 rows × 21 columns</p>\n",
       "</div>"
      ],
      "text/plain": [
       "   index          dateCrawled                            name  seller  \\\n",
       "0      0  2016-03-24 11:52:17                      Golf_3_1.6  privat   \n",
       "1      1  2016-03-24 10:58:45            A5_Sportback_2.7_Tdi  privat   \n",
       "2      2  2016-03-14 12:52:21  Jeep_Grand_Cherokee_\"Overland\"  privat   \n",
       "3      3  2016-03-17 16:54:04              GOLF_4_1_4__3TÜRER  privat   \n",
       "4      4  2016-03-31 17:25:20  Skoda_Fabia_1.4_TDI_PD_Classic  privat   \n",
       "\n",
       "  offerType  price abtest vehicleType  yearOfRegistration    gearbox  ...  \\\n",
       "0   Angebot    480   test         NaN                1993    manuell  ...   \n",
       "1   Angebot  18300   test       coupe                2011    manuell  ...   \n",
       "2   Angebot   9800   test         suv                2004  automatik  ...   \n",
       "3   Angebot   1500   test  kleinwagen                2001    manuell  ...   \n",
       "4   Angebot   3600   test  kleinwagen                2008    manuell  ...   \n",
       "\n",
       "   model kilometer  monthOfRegistration  fuelType       brand  \\\n",
       "0   golf    150000                    0    benzin  volkswagen   \n",
       "1    NaN    125000                    5    diesel        audi   \n",
       "2  grand    125000                    8    diesel        jeep   \n",
       "3   golf    150000                    6    benzin  volkswagen   \n",
       "4  fabia     90000                    7    diesel       skoda   \n",
       "\n",
       "  notRepairedDamage          dateCreated nrOfPictures  postalCode  \\\n",
       "0               NaN  2016-03-24 00:00:00            0       70435   \n",
       "1                ja  2016-03-24 00:00:00            0       66954   \n",
       "2               NaN  2016-03-14 00:00:00            0       90480   \n",
       "3              nein  2016-03-17 00:00:00            0       91074   \n",
       "4              nein  2016-03-31 00:00:00            0       60437   \n",
       "\n",
       "              lastSeen  \n",
       "0  2016-04-07 03:16:57  \n",
       "1  2016-04-07 01:46:50  \n",
       "2  2016-04-05 12:47:46  \n",
       "3  2016-03-17 17:40:17  \n",
       "4  2016-04-06 10:17:21  \n",
       "\n",
       "[5 rows x 21 columns]"
      ]
     },
     "execution_count": 3,
     "metadata": {},
     "output_type": "execute_result"
    }
   ],
   "source": [
    "url = 'https://raw.githubusercontent.com/SebastianFurquet/Datasets-Furquet---Seleccionados/main/1_car_pricing.csv'\n",
    "df = pd.read_csv(url, sep=',')\n",
    "df.head()"
   ]
  },
  {
   "cell_type": "markdown",
   "id": "d75a6287",
   "metadata": {},
   "source": [
    "Se puede apreciar que algunos datos estan en Aleman.\n",
    "Para una mejor apreciacion a futuro se traducen algunas palabras como ser:\n",
    "\n",
    "- manuell --> Manual\n",
    "- automatik --> Automatico\n",
    "- benzin --> Nafta\n",
    "- andere --> Otros\n",
    "- ja --> Si\n",
    "- nein --> No\n",
    "\n",
    "\n",
    "se utiliza la funcion .replace()"
   ]
  },
  {
   "cell_type": "code",
   "execution_count": 4,
   "id": "7c6c0f2b",
   "metadata": {},
   "outputs": [],
   "source": [
    "df['gearbox'] = df['gearbox'].replace('manuell', 'Manual').replace('automatik', 'Automatico')\n",
    "df['fuelType'] = df['fuelType'].replace('benzin', 'Nafta').replace('andere', 'otros')\n",
    "df['notRepairedDamage'] = df['notRepairedDamage'].replace('ja', 'Si').replace('nein', 'No')"
   ]
  },
  {
   "cell_type": "code",
   "execution_count": 5,
   "id": "e6fc0611",
   "metadata": {},
   "outputs": [
    {
     "data": {
      "text/html": [
       "<div>\n",
       "<style scoped>\n",
       "    .dataframe tbody tr th:only-of-type {\n",
       "        vertical-align: middle;\n",
       "    }\n",
       "\n",
       "    .dataframe tbody tr th {\n",
       "        vertical-align: top;\n",
       "    }\n",
       "\n",
       "    .dataframe thead th {\n",
       "        text-align: right;\n",
       "    }\n",
       "</style>\n",
       "<table border=\"1\" class=\"dataframe\">\n",
       "  <thead>\n",
       "    <tr style=\"text-align: right;\">\n",
       "      <th></th>\n",
       "      <th>index</th>\n",
       "      <th>dateCrawled</th>\n",
       "      <th>name</th>\n",
       "      <th>seller</th>\n",
       "      <th>offerType</th>\n",
       "      <th>price</th>\n",
       "      <th>abtest</th>\n",
       "      <th>vehicleType</th>\n",
       "      <th>yearOfRegistration</th>\n",
       "      <th>gearbox</th>\n",
       "      <th>...</th>\n",
       "      <th>model</th>\n",
       "      <th>kilometer</th>\n",
       "      <th>monthOfRegistration</th>\n",
       "      <th>fuelType</th>\n",
       "      <th>brand</th>\n",
       "      <th>notRepairedDamage</th>\n",
       "      <th>dateCreated</th>\n",
       "      <th>nrOfPictures</th>\n",
       "      <th>postalCode</th>\n",
       "      <th>lastSeen</th>\n",
       "    </tr>\n",
       "  </thead>\n",
       "  <tbody>\n",
       "    <tr>\n",
       "      <th>0</th>\n",
       "      <td>0</td>\n",
       "      <td>2016-03-24 11:52:17</td>\n",
       "      <td>Golf_3_1.6</td>\n",
       "      <td>privat</td>\n",
       "      <td>Angebot</td>\n",
       "      <td>480</td>\n",
       "      <td>test</td>\n",
       "      <td>NaN</td>\n",
       "      <td>1993</td>\n",
       "      <td>Manual</td>\n",
       "      <td>...</td>\n",
       "      <td>golf</td>\n",
       "      <td>150000</td>\n",
       "      <td>0</td>\n",
       "      <td>Nafta</td>\n",
       "      <td>volkswagen</td>\n",
       "      <td>NaN</td>\n",
       "      <td>2016-03-24 00:00:00</td>\n",
       "      <td>0</td>\n",
       "      <td>70435</td>\n",
       "      <td>2016-04-07 03:16:57</td>\n",
       "    </tr>\n",
       "    <tr>\n",
       "      <th>1</th>\n",
       "      <td>1</td>\n",
       "      <td>2016-03-24 10:58:45</td>\n",
       "      <td>A5_Sportback_2.7_Tdi</td>\n",
       "      <td>privat</td>\n",
       "      <td>Angebot</td>\n",
       "      <td>18300</td>\n",
       "      <td>test</td>\n",
       "      <td>coupe</td>\n",
       "      <td>2011</td>\n",
       "      <td>Manual</td>\n",
       "      <td>...</td>\n",
       "      <td>NaN</td>\n",
       "      <td>125000</td>\n",
       "      <td>5</td>\n",
       "      <td>diesel</td>\n",
       "      <td>audi</td>\n",
       "      <td>Si</td>\n",
       "      <td>2016-03-24 00:00:00</td>\n",
       "      <td>0</td>\n",
       "      <td>66954</td>\n",
       "      <td>2016-04-07 01:46:50</td>\n",
       "    </tr>\n",
       "    <tr>\n",
       "      <th>2</th>\n",
       "      <td>2</td>\n",
       "      <td>2016-03-14 12:52:21</td>\n",
       "      <td>Jeep_Grand_Cherokee_\"Overland\"</td>\n",
       "      <td>privat</td>\n",
       "      <td>Angebot</td>\n",
       "      <td>9800</td>\n",
       "      <td>test</td>\n",
       "      <td>suv</td>\n",
       "      <td>2004</td>\n",
       "      <td>Automatico</td>\n",
       "      <td>...</td>\n",
       "      <td>grand</td>\n",
       "      <td>125000</td>\n",
       "      <td>8</td>\n",
       "      <td>diesel</td>\n",
       "      <td>jeep</td>\n",
       "      <td>NaN</td>\n",
       "      <td>2016-03-14 00:00:00</td>\n",
       "      <td>0</td>\n",
       "      <td>90480</td>\n",
       "      <td>2016-04-05 12:47:46</td>\n",
       "    </tr>\n",
       "    <tr>\n",
       "      <th>3</th>\n",
       "      <td>3</td>\n",
       "      <td>2016-03-17 16:54:04</td>\n",
       "      <td>GOLF_4_1_4__3TÜRER</td>\n",
       "      <td>privat</td>\n",
       "      <td>Angebot</td>\n",
       "      <td>1500</td>\n",
       "      <td>test</td>\n",
       "      <td>kleinwagen</td>\n",
       "      <td>2001</td>\n",
       "      <td>Manual</td>\n",
       "      <td>...</td>\n",
       "      <td>golf</td>\n",
       "      <td>150000</td>\n",
       "      <td>6</td>\n",
       "      <td>Nafta</td>\n",
       "      <td>volkswagen</td>\n",
       "      <td>No</td>\n",
       "      <td>2016-03-17 00:00:00</td>\n",
       "      <td>0</td>\n",
       "      <td>91074</td>\n",
       "      <td>2016-03-17 17:40:17</td>\n",
       "    </tr>\n",
       "    <tr>\n",
       "      <th>4</th>\n",
       "      <td>4</td>\n",
       "      <td>2016-03-31 17:25:20</td>\n",
       "      <td>Skoda_Fabia_1.4_TDI_PD_Classic</td>\n",
       "      <td>privat</td>\n",
       "      <td>Angebot</td>\n",
       "      <td>3600</td>\n",
       "      <td>test</td>\n",
       "      <td>kleinwagen</td>\n",
       "      <td>2008</td>\n",
       "      <td>Manual</td>\n",
       "      <td>...</td>\n",
       "      <td>fabia</td>\n",
       "      <td>90000</td>\n",
       "      <td>7</td>\n",
       "      <td>diesel</td>\n",
       "      <td>skoda</td>\n",
       "      <td>No</td>\n",
       "      <td>2016-03-31 00:00:00</td>\n",
       "      <td>0</td>\n",
       "      <td>60437</td>\n",
       "      <td>2016-04-06 10:17:21</td>\n",
       "    </tr>\n",
       "  </tbody>\n",
       "</table>\n",
       "<p>5 rows × 21 columns</p>\n",
       "</div>"
      ],
      "text/plain": [
       "   index          dateCrawled                            name  seller  \\\n",
       "0      0  2016-03-24 11:52:17                      Golf_3_1.6  privat   \n",
       "1      1  2016-03-24 10:58:45            A5_Sportback_2.7_Tdi  privat   \n",
       "2      2  2016-03-14 12:52:21  Jeep_Grand_Cherokee_\"Overland\"  privat   \n",
       "3      3  2016-03-17 16:54:04              GOLF_4_1_4__3TÜRER  privat   \n",
       "4      4  2016-03-31 17:25:20  Skoda_Fabia_1.4_TDI_PD_Classic  privat   \n",
       "\n",
       "  offerType  price abtest vehicleType  yearOfRegistration     gearbox  ...  \\\n",
       "0   Angebot    480   test         NaN                1993      Manual  ...   \n",
       "1   Angebot  18300   test       coupe                2011      Manual  ...   \n",
       "2   Angebot   9800   test         suv                2004  Automatico  ...   \n",
       "3   Angebot   1500   test  kleinwagen                2001      Manual  ...   \n",
       "4   Angebot   3600   test  kleinwagen                2008      Manual  ...   \n",
       "\n",
       "   model kilometer  monthOfRegistration  fuelType       brand  \\\n",
       "0   golf    150000                    0     Nafta  volkswagen   \n",
       "1    NaN    125000                    5    diesel        audi   \n",
       "2  grand    125000                    8    diesel        jeep   \n",
       "3   golf    150000                    6     Nafta  volkswagen   \n",
       "4  fabia     90000                    7    diesel       skoda   \n",
       "\n",
       "  notRepairedDamage          dateCreated nrOfPictures  postalCode  \\\n",
       "0               NaN  2016-03-24 00:00:00            0       70435   \n",
       "1                Si  2016-03-24 00:00:00            0       66954   \n",
       "2               NaN  2016-03-14 00:00:00            0       90480   \n",
       "3                No  2016-03-17 00:00:00            0       91074   \n",
       "4                No  2016-03-31 00:00:00            0       60437   \n",
       "\n",
       "              lastSeen  \n",
       "0  2016-04-07 03:16:57  \n",
       "1  2016-04-07 01:46:50  \n",
       "2  2016-04-05 12:47:46  \n",
       "3  2016-03-17 17:40:17  \n",
       "4  2016-04-06 10:17:21  \n",
       "\n",
       "[5 rows x 21 columns]"
      ]
     },
     "execution_count": 5,
     "metadata": {},
     "output_type": "execute_result"
    }
   ],
   "source": [
    "df.head()"
   ]
  },
  {
   "cell_type": "markdown",
   "id": "cb64ecd8",
   "metadata": {},
   "source": [
    "Una vez que se verifica que se ha importado el archivo correctamente, es de suma importancia conocer las proporciones del mismo, esto es, la forma, el nombre y tipo de datos de las columnas, si existen datos nulos, el tipo de dato de cada columna, las medidas básicas ( media, desvío, conteo, mínimo, máximo, cuartiles)"
   ]
  },
  {
   "cell_type": "code",
   "execution_count": 6,
   "id": "c867750f",
   "metadata": {},
   "outputs": [
    {
     "data": {
      "text/html": [
       "<div>\n",
       "<style scoped>\n",
       "    .dataframe tbody tr th:only-of-type {\n",
       "        vertical-align: middle;\n",
       "    }\n",
       "\n",
       "    .dataframe tbody tr th {\n",
       "        vertical-align: top;\n",
       "    }\n",
       "\n",
       "    .dataframe thead th {\n",
       "        text-align: right;\n",
       "    }\n",
       "</style>\n",
       "<table border=\"1\" class=\"dataframe\">\n",
       "  <thead>\n",
       "    <tr style=\"text-align: right;\">\n",
       "      <th></th>\n",
       "      <th>index</th>\n",
       "      <th>price</th>\n",
       "      <th>yearOfRegistration</th>\n",
       "      <th>powerPS</th>\n",
       "      <th>kilometer</th>\n",
       "      <th>monthOfRegistration</th>\n",
       "      <th>nrOfPictures</th>\n",
       "      <th>postalCode</th>\n",
       "    </tr>\n",
       "  </thead>\n",
       "  <tbody>\n",
       "    <tr>\n",
       "      <th>count</th>\n",
       "      <td>371528.000000</td>\n",
       "      <td>3.715280e+05</td>\n",
       "      <td>371528.000000</td>\n",
       "      <td>371528.000000</td>\n",
       "      <td>371528.000000</td>\n",
       "      <td>371528.000000</td>\n",
       "      <td>371528.0</td>\n",
       "      <td>371528.00000</td>\n",
       "    </tr>\n",
       "    <tr>\n",
       "      <th>mean</th>\n",
       "      <td>185763.500000</td>\n",
       "      <td>1.729514e+04</td>\n",
       "      <td>2004.577997</td>\n",
       "      <td>115.549477</td>\n",
       "      <td>125618.688228</td>\n",
       "      <td>5.734445</td>\n",
       "      <td>0.0</td>\n",
       "      <td>50820.66764</td>\n",
       "    </tr>\n",
       "    <tr>\n",
       "      <th>std</th>\n",
       "      <td>107251.039743</td>\n",
       "      <td>3.587954e+06</td>\n",
       "      <td>92.866598</td>\n",
       "      <td>192.139578</td>\n",
       "      <td>40112.337051</td>\n",
       "      <td>3.712412</td>\n",
       "      <td>0.0</td>\n",
       "      <td>25799.08247</td>\n",
       "    </tr>\n",
       "    <tr>\n",
       "      <th>min</th>\n",
       "      <td>0.000000</td>\n",
       "      <td>0.000000e+00</td>\n",
       "      <td>1000.000000</td>\n",
       "      <td>0.000000</td>\n",
       "      <td>5000.000000</td>\n",
       "      <td>0.000000</td>\n",
       "      <td>0.0</td>\n",
       "      <td>1067.00000</td>\n",
       "    </tr>\n",
       "    <tr>\n",
       "      <th>25%</th>\n",
       "      <td>92881.750000</td>\n",
       "      <td>1.150000e+03</td>\n",
       "      <td>1999.000000</td>\n",
       "      <td>70.000000</td>\n",
       "      <td>125000.000000</td>\n",
       "      <td>3.000000</td>\n",
       "      <td>0.0</td>\n",
       "      <td>30459.00000</td>\n",
       "    </tr>\n",
       "    <tr>\n",
       "      <th>50%</th>\n",
       "      <td>185763.500000</td>\n",
       "      <td>2.950000e+03</td>\n",
       "      <td>2003.000000</td>\n",
       "      <td>105.000000</td>\n",
       "      <td>150000.000000</td>\n",
       "      <td>6.000000</td>\n",
       "      <td>0.0</td>\n",
       "      <td>49610.00000</td>\n",
       "    </tr>\n",
       "    <tr>\n",
       "      <th>75%</th>\n",
       "      <td>278645.250000</td>\n",
       "      <td>7.200000e+03</td>\n",
       "      <td>2008.000000</td>\n",
       "      <td>150.000000</td>\n",
       "      <td>150000.000000</td>\n",
       "      <td>9.000000</td>\n",
       "      <td>0.0</td>\n",
       "      <td>71546.00000</td>\n",
       "    </tr>\n",
       "    <tr>\n",
       "      <th>max</th>\n",
       "      <td>371527.000000</td>\n",
       "      <td>2.147484e+09</td>\n",
       "      <td>9999.000000</td>\n",
       "      <td>20000.000000</td>\n",
       "      <td>150000.000000</td>\n",
       "      <td>12.000000</td>\n",
       "      <td>0.0</td>\n",
       "      <td>99998.00000</td>\n",
       "    </tr>\n",
       "  </tbody>\n",
       "</table>\n",
       "</div>"
      ],
      "text/plain": [
       "               index         price  yearOfRegistration        powerPS  \\\n",
       "count  371528.000000  3.715280e+05       371528.000000  371528.000000   \n",
       "mean   185763.500000  1.729514e+04         2004.577997     115.549477   \n",
       "std    107251.039743  3.587954e+06           92.866598     192.139578   \n",
       "min         0.000000  0.000000e+00         1000.000000       0.000000   \n",
       "25%     92881.750000  1.150000e+03         1999.000000      70.000000   \n",
       "50%    185763.500000  2.950000e+03         2003.000000     105.000000   \n",
       "75%    278645.250000  7.200000e+03         2008.000000     150.000000   \n",
       "max    371527.000000  2.147484e+09         9999.000000   20000.000000   \n",
       "\n",
       "           kilometer  monthOfRegistration  nrOfPictures    postalCode  \n",
       "count  371528.000000        371528.000000      371528.0  371528.00000  \n",
       "mean   125618.688228             5.734445           0.0   50820.66764  \n",
       "std     40112.337051             3.712412           0.0   25799.08247  \n",
       "min      5000.000000             0.000000           0.0    1067.00000  \n",
       "25%    125000.000000             3.000000           0.0   30459.00000  \n",
       "50%    150000.000000             6.000000           0.0   49610.00000  \n",
       "75%    150000.000000             9.000000           0.0   71546.00000  \n",
       "max    150000.000000            12.000000           0.0   99998.00000  "
      ]
     },
     "execution_count": 6,
     "metadata": {},
     "output_type": "execute_result"
    }
   ],
   "source": [
    "df.describe()"
   ]
  },
  {
   "cell_type": "markdown",
   "id": "1491a2b0",
   "metadata": {},
   "source": [
    "Tamaño del DataSet"
   ]
  },
  {
   "cell_type": "code",
   "execution_count": 7,
   "id": "99034ca9",
   "metadata": {},
   "outputs": [
    {
     "data": {
      "text/plain": [
       "(371528, 21)"
      ]
     },
     "execution_count": 7,
     "metadata": {},
     "output_type": "execute_result"
    }
   ],
   "source": [
    "df.shape"
   ]
  },
  {
   "cell_type": "markdown",
   "id": "1e4a8539",
   "metadata": {},
   "source": [
    "Informacion y tipos de datos de columnas"
   ]
  },
  {
   "cell_type": "code",
   "execution_count": 8,
   "id": "c463f0f3",
   "metadata": {},
   "outputs": [
    {
     "name": "stdout",
     "output_type": "stream",
     "text": [
      "<class 'pandas.core.frame.DataFrame'>\n",
      "RangeIndex: 371528 entries, 0 to 371527\n",
      "Data columns (total 21 columns):\n",
      " #   Column               Non-Null Count   Dtype \n",
      "---  ------               --------------   ----- \n",
      " 0   index                371528 non-null  int64 \n",
      " 1   dateCrawled          371528 non-null  object\n",
      " 2   name                 371528 non-null  object\n",
      " 3   seller               371528 non-null  object\n",
      " 4   offerType            371528 non-null  object\n",
      " 5   price                371528 non-null  int64 \n",
      " 6   abtest               371528 non-null  object\n",
      " 7   vehicleType          333659 non-null  object\n",
      " 8   yearOfRegistration   371528 non-null  int64 \n",
      " 9   gearbox              351319 non-null  object\n",
      " 10  powerPS              371528 non-null  int64 \n",
      " 11  model                351044 non-null  object\n",
      " 12  kilometer            371528 non-null  int64 \n",
      " 13  monthOfRegistration  371528 non-null  int64 \n",
      " 14  fuelType             338142 non-null  object\n",
      " 15  brand                371528 non-null  object\n",
      " 16  notRepairedDamage    299468 non-null  object\n",
      " 17  dateCreated          371528 non-null  object\n",
      " 18  nrOfPictures         371528 non-null  int64 \n",
      " 19  postalCode           371528 non-null  int64 \n",
      " 20  lastSeen             371528 non-null  object\n",
      "dtypes: int64(8), object(13)\n",
      "memory usage: 59.5+ MB\n"
     ]
    }
   ],
   "source": [
    "df.info()"
   ]
  },
  {
   "cell_type": "markdown",
   "id": "5e21130f",
   "metadata": {},
   "source": [
    "- 4.1 - En base a los datos analizados, podemos observar que columnas como dateCrawled, dateCreated, lastSeen se en cuentran como tipo de datos Objetos, lo que significa que se tratan como cadenas de texto (strings). Estas columnas contienen información de fecha y hora, por lo que sería más útil almacenarlas como tipos de datos de fecha y hora. Esto nos permitiria poder realizar operaciones por ejemplo resta, para poder compararlas. Tambien nos permitiria poder extraer el año, mes, dia etc.\n",
    "\n",
    "- 4.2 - Otra cosa a destacar es que se observan columnas como por ejemplo \" 7 - vehicleType \" o \" 9 - gearbox \" con algunos datos nulos. En base a esta cuestion a posterior se procedera a realizar el analisis de la influencia de estos datos nulos por cada columna a fin de poder definir la accion a implementar, si eliminacion de nulos, o reemplazo por alguna medida de tendencia central."
   ]
  },
  {
   "cell_type": "markdown",
   "id": "43d03206",
   "metadata": {},
   "source": [
    "***4.1 - Modificacion de datos de las columnas dateCrawled, dateCreated, lastSeen, con la funcion pd.to_datetime***"
   ]
  },
  {
   "cell_type": "code",
   "execution_count": 9,
   "id": "9257fa67",
   "metadata": {},
   "outputs": [
    {
     "data": {
      "text/plain": [
       "index                           int64\n",
       "dateCrawled            datetime64[ns]\n",
       "name                           object\n",
       "seller                         object\n",
       "offerType                      object\n",
       "price                           int64\n",
       "abtest                         object\n",
       "vehicleType                    object\n",
       "yearOfRegistration              int64\n",
       "gearbox                        object\n",
       "powerPS                         int64\n",
       "model                          object\n",
       "kilometer                       int64\n",
       "monthOfRegistration             int64\n",
       "fuelType                       object\n",
       "brand                          object\n",
       "notRepairedDamage              object\n",
       "dateCreated            datetime64[ns]\n",
       "nrOfPictures                    int64\n",
       "postalCode                      int64\n",
       "lastSeen               datetime64[ns]\n",
       "dtype: object"
      ]
     },
     "execution_count": 9,
     "metadata": {},
     "output_type": "execute_result"
    }
   ],
   "source": [
    "df['dateCrawled'] = pd.to_datetime(df['dateCrawled'])\n",
    "df['dateCreated'] = pd.to_datetime(df['dateCreated'])\n",
    "df['lastSeen'] = pd.to_datetime(df['lastSeen'])\n",
    "df.dtypes"
   ]
  },
  {
   "cell_type": "markdown",
   "id": "a9043383",
   "metadata": {},
   "source": [
    "***4.2 - Datos nulos***"
   ]
  },
  {
   "cell_type": "markdown",
   "id": "2ff1dd39",
   "metadata": {},
   "source": [
    "Se trabaja sobre los Datos nulos para lo cual, se genera la variable valores_nulos y se utiliza la funcion \".isnull()\" para obtener los datos nulos y \".sum()\" para sumar los mismos.\n",
    "De esta manera obtener el recuento de nulos que hay por columnas."
   ]
  },
  {
   "cell_type": "code",
   "execution_count": 10,
   "id": "733a581e",
   "metadata": {},
   "outputs": [
    {
     "data": {
      "text/plain": [
       "index                      0\n",
       "dateCrawled                0\n",
       "name                       0\n",
       "seller                     0\n",
       "offerType                  0\n",
       "price                      0\n",
       "abtest                     0\n",
       "vehicleType            37869\n",
       "yearOfRegistration         0\n",
       "gearbox                20209\n",
       "powerPS                    0\n",
       "model                  20484\n",
       "kilometer                  0\n",
       "monthOfRegistration        0\n",
       "fuelType               33386\n",
       "brand                      0\n",
       "notRepairedDamage      72060\n",
       "dateCreated                0\n",
       "nrOfPictures               0\n",
       "postalCode                 0\n",
       "lastSeen                   0\n",
       "dtype: int64"
      ]
     },
     "execution_count": 10,
     "metadata": {},
     "output_type": "execute_result"
    }
   ],
   "source": [
    "valores_nulos = df.isnull().sum()\n",
    "valores_nulos"
   ]
  },
  {
   "cell_type": "markdown",
   "id": "ad03cadb",
   "metadata": {},
   "source": [
    "Como podemos observar las columnas vehicleType, gearbox, model, fuelType y notRepairedDamage poseen datos nulos.\n",
    "Ahora buscamos conocer cuan represetativos son esos valores nulos encontrados en el df, con el fin de definir si optamos por su eliminacion o reemplazo por alguna medida de tendencia central.\n",
    "- Calculo del Porcentaje de valores nulos = (Numero total de valores nulos en la columna / Numero total de filas en el DataFrame)  ×100"
   ]
  },
  {
   "cell_type": "code",
   "execution_count": 11,
   "id": "6d110a4b",
   "metadata": {},
   "outputs": [
    {
     "data": {
      "text/plain": [
       "notRepairedDamage      19.395577\n",
       "vehicleType            10.192771\n",
       "fuelType                8.986133\n",
       "model                   5.513447\n",
       "gearbox                 5.439429\n",
       "index                   0.000000\n",
       "kilometer               0.000000\n",
       "postalCode              0.000000\n",
       "nrOfPictures            0.000000\n",
       "dateCreated             0.000000\n",
       "brand                   0.000000\n",
       "monthOfRegistration     0.000000\n",
       "powerPS                 0.000000\n",
       "dateCrawled             0.000000\n",
       "yearOfRegistration      0.000000\n",
       "abtest                  0.000000\n",
       "price                   0.000000\n",
       "offerType               0.000000\n",
       "seller                  0.000000\n",
       "name                    0.000000\n",
       "lastSeen                0.000000\n",
       "dtype: float64"
      ]
     },
     "execution_count": 11,
     "metadata": {},
     "output_type": "execute_result"
    }
   ],
   "source": [
    "porcentaje_nulos = (valores_nulos / len(df)) *100\n",
    "\n",
    "#para una mejor apreciacion de los datos los vamos a poner en orden descendente, es decir los valores mas altos arriba.\n",
    "\n",
    "porcentaje_nulos = porcentaje_nulos.sort_values(ascending=False)\n",
    "porcentaje_nulos"
   ]
  },
  {
   "cell_type": "markdown",
   "id": "e48e51b1",
   "metadata": {},
   "source": [
    "De esta manera podemos observar que la columna ***notRepairedDamage posee el 19.40%*** de los datos faltantes, es decir la que mas faltantes posee. La siguen ***vehicleType con 10.2%***, ***fuelType con el 9%***, ***model con el 5.5%*** y ***gearbox con el 5.4%***.\n",
    "\n",
    "Por otro lado el resto de las columnas no poseen valores nulos.\n",
    "\n",
    "- Como el % de los valores nulos lo consideramos bastante alto, se procedera a reemplazar los mismos por el valor que mas veces aparece, es decir por la MODA."
   ]
  },
  {
   "cell_type": "code",
   "execution_count": 12,
   "id": "d16ff4ed",
   "metadata": {},
   "outputs": [
    {
     "data": {
      "text/plain": [
       "'No'"
      ]
     },
     "execution_count": 12,
     "metadata": {},
     "output_type": "execute_result"
    }
   ],
   "source": [
    "moda_notRepairedDamage = df['notRepairedDamage'].mode()[0]\n",
    "moda_notRepairedDamage"
   ]
  },
  {
   "cell_type": "code",
   "execution_count": 13,
   "id": "9ed3696e",
   "metadata": {},
   "outputs": [
    {
     "data": {
      "text/plain": [
       "'limousine'"
      ]
     },
     "execution_count": 13,
     "metadata": {},
     "output_type": "execute_result"
    }
   ],
   "source": [
    "moda_vehicleType = df['vehicleType'].mode()[0]\n",
    "moda_vehicleType"
   ]
  },
  {
   "cell_type": "code",
   "execution_count": 14,
   "id": "7f173e12",
   "metadata": {},
   "outputs": [
    {
     "data": {
      "text/plain": [
       "'Nafta'"
      ]
     },
     "execution_count": 14,
     "metadata": {},
     "output_type": "execute_result"
    }
   ],
   "source": [
    "moda_fuelType = df['fuelType'].mode()[0]\n",
    "moda_fuelType"
   ]
  },
  {
   "cell_type": "code",
   "execution_count": 15,
   "id": "5d365757",
   "metadata": {},
   "outputs": [
    {
     "data": {
      "text/plain": [
       "'golf'"
      ]
     },
     "execution_count": 15,
     "metadata": {},
     "output_type": "execute_result"
    }
   ],
   "source": [
    "moda_model = df['model'].mode()[0]\n",
    "moda_model"
   ]
  },
  {
   "cell_type": "code",
   "execution_count": 16,
   "id": "eab34d9f",
   "metadata": {},
   "outputs": [
    {
     "data": {
      "text/plain": [
       "'Manual'"
      ]
     },
     "execution_count": 16,
     "metadata": {},
     "output_type": "execute_result"
    }
   ],
   "source": [
    "moda_gearbox = df['gearbox'].mode()[0]\n",
    "moda_gearbox"
   ]
  },
  {
   "cell_type": "markdown",
   "id": "d4d0eab1",
   "metadata": {},
   "source": [
    "Una vez obtenido el valor de la moda para cada columna, procederemos a reemplazar los valores nulos con la funcion ***.fillna()***"
   ]
  },
  {
   "cell_type": "code",
   "execution_count": 17,
   "id": "113b4f95",
   "metadata": {},
   "outputs": [],
   "source": [
    "df['notRepairedDamage'].fillna(moda_notRepairedDamage,inplace=True)\n",
    "df['vehicleType'].fillna(moda_vehicleType,inplace=True)\n",
    "df['fuelType'].fillna(moda_fuelType,inplace=True)\n",
    "df['model'].fillna(moda_model,inplace=True)\n",
    "df['gearbox'].fillna(moda_gearbox,inplace=True)"
   ]
  },
  {
   "cell_type": "code",
   "execution_count": 18,
   "id": "c3bcb467",
   "metadata": {},
   "outputs": [
    {
     "name": "stdout",
     "output_type": "stream",
     "text": [
      "<class 'pandas.core.frame.DataFrame'>\n",
      "RangeIndex: 371528 entries, 0 to 371527\n",
      "Data columns (total 21 columns):\n",
      " #   Column               Non-Null Count   Dtype         \n",
      "---  ------               --------------   -----         \n",
      " 0   index                371528 non-null  int64         \n",
      " 1   dateCrawled          371528 non-null  datetime64[ns]\n",
      " 2   name                 371528 non-null  object        \n",
      " 3   seller               371528 non-null  object        \n",
      " 4   offerType            371528 non-null  object        \n",
      " 5   price                371528 non-null  int64         \n",
      " 6   abtest               371528 non-null  object        \n",
      " 7   vehicleType          371528 non-null  object        \n",
      " 8   yearOfRegistration   371528 non-null  int64         \n",
      " 9   gearbox              371528 non-null  object        \n",
      " 10  powerPS              371528 non-null  int64         \n",
      " 11  model                371528 non-null  object        \n",
      " 12  kilometer            371528 non-null  int64         \n",
      " 13  monthOfRegistration  371528 non-null  int64         \n",
      " 14  fuelType             371528 non-null  object        \n",
      " 15  brand                371528 non-null  object        \n",
      " 16  notRepairedDamage    371528 non-null  object        \n",
      " 17  dateCreated          371528 non-null  datetime64[ns]\n",
      " 18  nrOfPictures         371528 non-null  int64         \n",
      " 19  postalCode           371528 non-null  int64         \n",
      " 20  lastSeen             371528 non-null  datetime64[ns]\n",
      "dtypes: datetime64[ns](3), int64(8), object(10)\n",
      "memory usage: 59.5+ MB\n"
     ]
    }
   ],
   "source": [
    "df.info()"
   ]
  },
  {
   "cell_type": "code",
   "execution_count": 19,
   "id": "91bb83e2",
   "metadata": {},
   "outputs": [
    {
     "data": {
      "text/plain": [
       "index                  0\n",
       "dateCrawled            0\n",
       "name                   0\n",
       "seller                 0\n",
       "offerType              0\n",
       "price                  0\n",
       "abtest                 0\n",
       "vehicleType            0\n",
       "yearOfRegistration     0\n",
       "gearbox                0\n",
       "powerPS                0\n",
       "model                  0\n",
       "kilometer              0\n",
       "monthOfRegistration    0\n",
       "fuelType               0\n",
       "brand                  0\n",
       "notRepairedDamage      0\n",
       "dateCreated            0\n",
       "nrOfPictures           0\n",
       "postalCode             0\n",
       "lastSeen               0\n",
       "dtype: int64"
      ]
     },
     "execution_count": 19,
     "metadata": {},
     "output_type": "execute_result"
    }
   ],
   "source": [
    "df.isnull().sum()"
   ]
  },
  {
   "cell_type": "code",
   "execution_count": 20,
   "id": "4020ce6d",
   "metadata": {},
   "outputs": [
    {
     "data": {
      "text/plain": [
       "(371528, 21)"
      ]
     },
     "execution_count": 20,
     "metadata": {},
     "output_type": "execute_result"
    }
   ],
   "source": [
    "df.shape"
   ]
  },
  {
   "cell_type": "markdown",
   "id": "970eb102",
   "metadata": {},
   "source": [
    "De esta manera nos aseguramos que no tenemos datos nulos en nuestro Dataset"
   ]
  },
  {
   "cell_type": "markdown",
   "id": "9ccf5029",
   "metadata": {},
   "source": [
    "***5 - Desarollo EDA, y analisis de hipotesis planteadas en el punto 3***"
   ]
  },
  {
   "cell_type": "markdown",
   "id": "61a9f153",
   "metadata": {},
   "source": [
    "En esta sección se comenzaran a analizar los datos que aporta el Dataset para obtener un vistazo general de la situación. Para ello, se contara con herramientas visuales que se importaran de las librerías: Matplotlib y Seaborn."
   ]
  },
  {
   "cell_type": "code",
   "execution_count": 21,
   "id": "88c997d5",
   "metadata": {},
   "outputs": [
    {
     "data": {
      "image/png": "[encoded data removed]",
      "text/plain": [
       "<Figure size 1200x800 with 1 Axes>"
      ]
     },
     "metadata": {},
     "output_type": "display_data"
    }
   ],
   "source": [
    "plt.figure(figsize=(12, 8))\n",
    "sns.scatterplot(x='brand', y='price', data=df)\n",
    "plt.xticks(rotation=90)  # Rotamos las etiquetas del eje x para mejorar la legibilidad\n",
    "plt.title('Relación entre Precio y Marca del Automóvil')\n",
    "plt.xlabel('Marca del Automóvil')\n",
    "plt.ylabel('Precio del Automóvil')\n",
    "plt.show()"
   ]
  },
  {
   "cell_type": "code",
   "execution_count": 22,
   "id": "3ad8cd96",
   "metadata": {},
   "outputs": [
    {
     "data": {
      "image/png": "[encoded data removed]",
      "text/plain": [
       "<Figure size 1200x800 with 1 Axes>"
      ]
     },
     "metadata": {},
     "output_type": "display_data"
    }
   ],
   "source": [
    "from matplotlib.ticker import FuncFormatter\n",
    "\n",
    "plt.figure(figsize=(12, 8))\n",
    "sns.scatterplot(x='brand', y='price', data=df)\n",
    "plt.xticks(rotation=90)  # Rotamos las etiquetas del eje x para mejorar la legibilidad\n",
    "plt.title('Relación entre Precio y Marca del Automóvil')\n",
    "plt.xlabel('Marca del Automóvil')\n",
    "plt.ylabel('Precio del Automóvil')\n",
    "plt.gca().yaxis.set_major_formatter(FuncFormatter(lambda x, _: '{:,.0f}'.format(x)))\n",
    "plt.show()"
   ]
  },
  {
   "cell_type": "code",
   "execution_count": 23,
   "id": "d5eefcbf",
   "metadata": {},
   "outputs": [
    {
     "data": {
      "text/plain": [
       "129969    2147483647\n",
       "127820      99999999\n",
       "77520       99999999\n",
       "150909      99999999\n",
       "56973       99999999\n",
       "             ...    \n",
       "125755             0\n",
       "74818              0\n",
       "301014             0\n",
       "196452             0\n",
       "310220             0\n",
       "Name: price, Length: 371528, dtype: int64"
      ]
     },
     "execution_count": 23,
     "metadata": {},
     "output_type": "execute_result"
    }
   ],
   "source": [
    "df['price'].sort_values(ascending=False)"
   ]
  },
  {
   "cell_type": "code",
   "execution_count": 24,
   "id": "562ee2c9",
   "metadata": {},
   "outputs": [
    {
     "data": {
      "text/plain": [
       "10778"
      ]
     },
     "execution_count": 24,
     "metadata": {},
     "output_type": "execute_result"
    }
   ],
   "source": [
    "conteo_valores_cero = (df['price'] == 0).sum()\n",
    "conteo_valores_cero"
   ]
  },
  {
   "cell_type": "markdown",
   "id": "1c80ea46",
   "metadata": {},
   "source": [
    "como se puede observar tenemos muchos valores atipicos, tanto valores del precio en $0, como valores inconsistentes muy elevados."
   ]
  },
  {
   "cell_type": "code",
   "execution_count": 53,
   "id": "f2b73a5b",
   "metadata": {},
   "outputs": [
    {
     "name": "stdout",
     "output_type": "stream",
     "text": [
      "17295.14186548524\n",
      "2950.0\n"
     ]
    }
   ],
   "source": [
    "print(df['price'].mean())\n",
    "print(df['price'].median())"
   ]
  },
  {
   "cell_type": "code",
   "execution_count": 54,
   "id": "6eaf42f8",
   "metadata": {},
   "outputs": [
    {
     "name": "stdout",
     "output_type": "stream",
     "text": [
      "No. de autos con valor de hasta $20000: 354115\n"
     ]
    }
   ],
   "source": [
    "print(f\"No. de autos con valor de hasta $20000: {len(df[df['price'] < 20000])}\")"
   ]
  },
  {
   "cell_type": "code",
   "execution_count": 37,
   "id": "2a27d428",
   "metadata": {},
   "outputs": [
    {
     "name": "stdout",
     "output_type": "stream",
     "text": [
      "No. de autos con valor superior a $20000: 17144\n",
      "No. de autos con valor superior a $30000: 5922\n",
      "No. de autos con valor superior a $40000: 2725\n",
      "No. de autos con valor superior a $50000: 1562\n",
      "No. de autos con valor superior a $60000: 1051\n"
     ]
    }
   ],
   "source": [
    "print(f\"No. de autos con valor superior a $20000: {len(df[df['price'] > 20000])}\")\n",
    "print(f\"No. de autos con valor superior a $30000: {len(df[df['price'] > 30000])}\")\n",
    "print(f\"No. de autos con valor superior a $40000: {len(df[df['price'] > 40000])}\")\n",
    "print(f\"No. de autos con valor superior a $50000: {len(df[df['price'] > 50000])}\")\n",
    "print(f\"No. de autos con valor superior a $60000: {len(df[df['price'] > 60000])}\")"
   ]
  },
  {
   "cell_type": "code",
   "execution_count": 49,
   "id": "c2a2b297",
   "metadata": {},
   "outputs": [
    {
     "data": {
      "image/png": "[encoded data removed]",
      "text/plain": [
       "<Figure size 1200x800 with 1 Axes>"
      ]
     },
     "metadata": {},
     "output_type": "display_data"
    }
   ],
   "source": [
    "plt.figure(figsize=(12, 8))\n",
    "\n",
    "precio_hasta_50000 = df['price']<=50000\n",
    "\n",
    "sns.scatterplot(x='brand', y=precio_hasta_50000, data=df)\n",
    "plt.xticks(rotation=90)  # Rotamos las etiquetas del eje x para mejorar la legibilidad\n",
    "plt.title('Relación entre Precio y Marca del Automóvil')\n",
    "plt.xlabel('Marca del Automóvil')\n",
    "plt.ylabel('Precio del Automóvil')\n",
    "plt.show()"
   ]
  },
  {
   "cell_type": "code",
   "execution_count": null,
   "id": "5fdd3f1e",
   "metadata": {},
   "outputs": [],
   "source": []
  }
 ],
 "metadata": {
  "kernelspec": {
   "display_name": "Python 3 (ipykernel)",
   "language": "python",
   "name": "python3"
  },
  "language_info": {
   "codemirror_mode": {
    "name": "ipython",
    "version": 3
   },
   "file_extension": ".py",
   "mimetype": "text/x-python",
   "name": "python",
   "nbconvert_exporter": "python",
   "pygments_lexer": "ipython3",
   "version": "3.11.5"
  }
 },
 "nbformat": 4,
 "nbformat_minor": 5
}
